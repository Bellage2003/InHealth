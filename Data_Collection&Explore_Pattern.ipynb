{
 "cells": [
  {
   "cell_type": "code",
   "execution_count": 50,
   "metadata": {},
   "outputs": [],
   "source": [
    "from instagrapi import Client"
   ]
  },
  {
   "cell_type": "code",
   "execution_count": 61,
   "metadata": {},
   "outputs": [
    {
     "data": {
      "text/plain": [
       "True"
      ]
     },
     "execution_count": 61,
     "metadata": {},
     "output_type": "execute_result"
    }
   ],
   "source": [
    "cl = Client()\n",
    "\n",
    "# adds a random delay between 1 and 3 seconds after each request\n",
    "cl.delay_range = [1, 3]\n",
    "\n",
    "cl.login('username', 'password')"
   ]
  },
  {
   "cell_type": "code",
   "execution_count": 11,
   "metadata": {},
   "outputs": [
    {
     "data": {
      "text/plain": [
       "{'id': '17843612872024162',\n",
       " 'name': 'bulimiaaaa',\n",
       " 'media_count': 8,\n",
       " 'profile_pic_url': None}"
      ]
     },
     "execution_count": 11,
     "metadata": {},
     "output_type": "execute_result"
    }
   ],
   "source": [
    "hashtag = cl.hashtag_info('bulimiaaaa')\n",
    "hashtag.dict()"
   ]
  },
  {
   "cell_type": "code",
   "execution_count": 3,
   "metadata": {},
   "outputs": [
    {
     "data": {
      "text/plain": [
       "{'id': '17843885503057960',\n",
       " 'name': 'ed',\n",
       " 'media_count': None,\n",
       " 'profile_pic_url': None}"
      ]
     },
     "execution_count": 3,
     "metadata": {},
     "output_type": "execute_result"
    }
   ],
   "source": [
    "hashtag = cl.hashtag_info('ed')\n",
    "hashtag.dict()"
   ]
  },
  {
   "cell_type": "code",
   "execution_count": 49,
   "metadata": {},
   "outputs": [
    {
     "data": {
      "text/plain": [
       "'Athletes, as a group, tend to report higher rates of physical, social, and community well-being than students who are non-athletes, both during and after college.\\n\\nHowever, stressors associated with the competitive atmosphere of sports, including the pressure to perform or maintain a particular body shape or weight, can increase the risk of developing eating disorders, disordered eating habits, and other harmful behaviors.\\n\\nDue to the increased vulnerability of this population, many studies have been conducted to learn more information about athletes and eating disorders. Through this research, the following has been learned:\\n✔️ The prevalence rates for eating disorders have been shown to be higher in athletes compared to non-athletes and have been found to range from 6-45% in female athletes and 0-19% in male athletes.\\n✔️ Up to 84% of college athletes have engaged in disordered patterns of eating or weight control behaviors.\\n✔️ In a study of NCAA athletes, it’s estimated that 34.75% of women are at risk for anorexia nervosa, compared to 9.5% of men and women and men had an equal risk of bulimia at 38%.\\n\\n#eatingdisorders #eatingdisorderrecovery #edrecovery #eatingdisorderawareness #eatingdisordersupport #eatingdisordercommunity #eatingdisordertreatment #recovery #edtreatment'"
      ]
     },
     "execution_count": 49,
     "metadata": {},
     "output_type": "execute_result"
    }
   ],
   "source": [
    "posts = cl.hashtag_medias_recent('eatingdisordercommunity', amount = 5)\n",
    "posts[4].caption_text"
   ]
  },
  {
   "cell_type": "code",
   "execution_count": null,
   "metadata": {},
   "outputs": [],
   "source": [
    "# hashtags: \"bulimiaaaa\", \"anorexia\", \"eatingdisorder\", \"fat\", \"bigeater\", \"anorexiasucks\", \"bulimiarecovery\", \n",
    "# \"anorexiarecovery\", \"eatingdisorderhospital\", \"bodydysmorphia\", \"bodydysmorphicdisorder\", \"edrecovery\", \n",
    "# \"anorexianervosarecovery\", \"anorexiawarrior\", \"fightanorexia\", \"edcommunity\", \"edrecoverywarrior\", \n",
    "# \"eatingdisorderrecovery\", \"eatingdisordercommunity\", \"anorexiarecovering\", \"fearfoods\", \"eatingfearfoods\",\n",
    "# \"eatingdisorderawareness\", \"orthorexia\", \"orthorexiarecovery\", \"edrd\", \"intermittentfasting\", \n",
    "# \"antifatbias\", \"edwarriors\", \"weightstigma\", \"bodydiversity\", \"disorderedeating\", \n",
    "# \"disorderedeatingrecovery\", \"bodyimage\", \"weightloss\", \"bulimiawarrior\", \"bodydismorphic\", \n",
    "# \"edtreatment\", \"eatingdisordersupport\", \"bodydismorphiaisreal\""
   ]
  },
  {
   "cell_type": "code",
   "execution_count": 36,
   "metadata": {},
   "outputs": [
    {
     "data": {
      "text/plain": [
       "{'id': '17841536137112829',\n",
       " 'name': 'anorexiasucks',\n",
       " 'media_count': 45116,\n",
       " 'profile_pic_url': None}"
      ]
     },
     "execution_count": 36,
     "metadata": {},
     "output_type": "execute_result"
    }
   ],
   "source": [
    "hashtag = cl.hashtag_info('bulimiaaaa')\n",
    "hashtag.dict()"
   ]
  },
  {
   "cell_type": "code",
   "execution_count": 65,
   "metadata": {},
   "outputs": [
    {
     "ename": "LoginRequired",
     "evalue": "login_required",
     "output_type": "error",
     "traceback": [
      "\u001b[0;31m---------------------------------------------------------------------------\u001b[0m",
      "\u001b[0;31mHTTPError\u001b[0m                                 Traceback (most recent call last)",
      "File \u001b[0;32m~/opt/anaconda3/lib/python3.9/site-packages/instagrapi/mixins/public.py:170\u001b[0m, in \u001b[0;36mPublicRequestMixin._send_public_request\u001b[0;34m(self, url, data, params, headers, return_json, stream, timeout)\u001b[0m\n\u001b[1;32m    169\u001b[0m \u001b[38;5;28mself\u001b[39m\u001b[38;5;241m.\u001b[39mlast_public_response \u001b[38;5;241m=\u001b[39m response\n\u001b[0;32m--> 170\u001b[0m \u001b[43mresponse\u001b[49m\u001b[38;5;241;43m.\u001b[39;49m\u001b[43mraise_for_status\u001b[49m\u001b[43m(\u001b[49m\u001b[43m)\u001b[49m\n\u001b[1;32m    171\u001b[0m \u001b[38;5;28;01mif\u001b[39;00m return_json:\n",
      "File \u001b[0;32m~/opt/anaconda3/lib/python3.9/site-packages/requests/models.py:960\u001b[0m, in \u001b[0;36mResponse.raise_for_status\u001b[0;34m(self)\u001b[0m\n\u001b[1;32m    959\u001b[0m \u001b[38;5;28;01mif\u001b[39;00m http_error_msg:\n\u001b[0;32m--> 960\u001b[0m     \u001b[38;5;28;01mraise\u001b[39;00m HTTPError(http_error_msg, response\u001b[38;5;241m=\u001b[39m\u001b[38;5;28mself\u001b[39m)\n",
      "\u001b[0;31mHTTPError\u001b[0m: 404 Client Error: Not Found for url: https://www.instagram.com/explore/tags/anorexiasucks/?__a=1&__d=dis",
      "\nDuring handling of the above exception, another exception occurred:\n",
      "\u001b[0;31mClientNotFoundError\u001b[0m                       Traceback (most recent call last)",
      "File \u001b[0;32m~/opt/anaconda3/lib/python3.9/site-packages/instagrapi/mixins/hashtag.py:449\u001b[0m, in \u001b[0;36mHashtagMixin.hashtag_medias_recent\u001b[0;34m(self, name, amount)\u001b[0m\n\u001b[1;32m    448\u001b[0m \u001b[38;5;28;01mtry\u001b[39;00m:\n\u001b[0;32m--> 449\u001b[0m     medias \u001b[38;5;241m=\u001b[39m \u001b[38;5;28;43mself\u001b[39;49m\u001b[38;5;241;43m.\u001b[39;49m\u001b[43mhashtag_medias_recent_a1\u001b[49m\u001b[43m(\u001b[49m\u001b[43mname\u001b[49m\u001b[43m,\u001b[49m\u001b[43m \u001b[49m\u001b[43mamount\u001b[49m\u001b[43m)\u001b[49m\n\u001b[1;32m    450\u001b[0m \u001b[38;5;28;01mexcept\u001b[39;00m ClientError:\n",
      "File \u001b[0;32m~/opt/anaconda3/lib/python3.9/site-packages/instagrapi/mixins/hashtag.py:412\u001b[0m, in \u001b[0;36mHashtagMixin.hashtag_medias_recent_a1\u001b[0;34m(self, name, amount)\u001b[0m\n\u001b[1;32m    397\u001b[0m \u001b[38;5;250m\u001b[39m\u001b[38;5;124;03m\"\"\"\u001b[39;00m\n\u001b[1;32m    398\u001b[0m \u001b[38;5;124;03mGet recent medias for a hashtag by Public Web API\u001b[39;00m\n\u001b[1;32m    399\u001b[0m \n\u001b[0;32m   (...)\u001b[0m\n\u001b[1;32m    410\u001b[0m \u001b[38;5;124;03m    List of objects of Media\u001b[39;00m\n\u001b[1;32m    411\u001b[0m \u001b[38;5;124;03m\"\"\"\u001b[39;00m\n\u001b[0;32m--> 412\u001b[0m \u001b[38;5;28;01mreturn\u001b[39;00m \u001b[38;5;28;43mself\u001b[39;49m\u001b[38;5;241;43m.\u001b[39;49m\u001b[43mhashtag_medias_a1\u001b[49m\u001b[43m(\u001b[49m\u001b[43mname\u001b[49m\u001b[43m,\u001b[49m\u001b[43m \u001b[49m\u001b[43mamount\u001b[49m\u001b[43m,\u001b[49m\u001b[43m \u001b[49m\u001b[43mtab_key\u001b[49m\u001b[38;5;241;43m=\u001b[39;49m\u001b[38;5;124;43m\"\u001b[39;49m\u001b[38;5;124;43mrecent\u001b[39;49m\u001b[38;5;124;43m\"\u001b[39;49m\u001b[43m)\u001b[49m\n",
      "File \u001b[0;32m~/opt/anaconda3/lib/python3.9/site-packages/instagrapi/mixins/hashtag.py:227\u001b[0m, in \u001b[0;36mHashtagMixin.hashtag_medias_a1\u001b[0;34m(self, name, amount, tab_key)\u001b[0m\n\u001b[1;32m    210\u001b[0m \u001b[38;5;250m\u001b[39m\u001b[38;5;124;03m\"\"\"\u001b[39;00m\n\u001b[1;32m    211\u001b[0m \u001b[38;5;124;03mGet medias for a hashtag by Public Web API\u001b[39;00m\n\u001b[1;32m    212\u001b[0m \n\u001b[0;32m   (...)\u001b[0m\n\u001b[1;32m    225\u001b[0m \u001b[38;5;124;03m    List of objects of Media\u001b[39;00m\n\u001b[1;32m    226\u001b[0m \u001b[38;5;124;03m\"\"\"\u001b[39;00m\n\u001b[0;32m--> 227\u001b[0m medias, _ \u001b[38;5;241m=\u001b[39m \u001b[38;5;28;43mself\u001b[39;49m\u001b[38;5;241;43m.\u001b[39;49m\u001b[43mhashtag_medias_a1_chunk\u001b[49m\u001b[43m(\u001b[49m\u001b[43mname\u001b[49m\u001b[43m,\u001b[49m\u001b[43m \u001b[49m\u001b[43mamount\u001b[49m\u001b[43m,\u001b[49m\u001b[43m \u001b[49m\u001b[43mtab_key\u001b[49m\u001b[43m)\u001b[49m\n\u001b[1;32m    228\u001b[0m \u001b[38;5;28;01mif\u001b[39;00m amount:\n",
      "File \u001b[0;32m~/opt/anaconda3/lib/python3.9/site-packages/instagrapi/mixins/hashtag.py:179\u001b[0m, in \u001b[0;36mHashtagMixin.hashtag_medias_a1_chunk\u001b[0;34m(self, name, max_amount, tab_key, end_cursor)\u001b[0m\n\u001b[1;32m    178\u001b[0m \u001b[38;5;28;01mtry\u001b[39;00m:\n\u001b[0;32m--> 179\u001b[0m     data \u001b[38;5;241m=\u001b[39m \u001b[38;5;28;43mself\u001b[39;49m\u001b[38;5;241;43m.\u001b[39;49m\u001b[43mpublic_a1_request\u001b[49m\u001b[43m(\u001b[49m\u001b[43murl\u001b[49m\u001b[43m,\u001b[49m\u001b[43m \u001b[49m\u001b[43mparams\u001b[49m\u001b[38;5;241;43m=\u001b[39;49m\u001b[43mparams\u001b[49m\u001b[43m)\u001b[49m\n\u001b[1;32m    180\u001b[0m \u001b[38;5;28;01mexcept\u001b[39;00m (ClientUnauthorizedError, ClientLoginRequired):\n",
      "File \u001b[0;32m~/opt/anaconda3/lib/python3.9/site-packages/instagrapi/mixins/public.py:216\u001b[0m, in \u001b[0;36mPublicRequestMixin.public_a1_request\u001b[0;34m(self, endpoint, data, params, headers)\u001b[0m\n\u001b[1;32m    214\u001b[0m params\u001b[38;5;241m.\u001b[39mupdate({\u001b[38;5;124m\"\u001b[39m\u001b[38;5;124m__a\u001b[39m\u001b[38;5;124m\"\u001b[39m: \u001b[38;5;241m1\u001b[39m, \u001b[38;5;124m\"\u001b[39m\u001b[38;5;124m__d\u001b[39m\u001b[38;5;124m\"\u001b[39m: \u001b[38;5;124m\"\u001b[39m\u001b[38;5;124mdis\u001b[39m\u001b[38;5;124m\"\u001b[39m})\n\u001b[0;32m--> 216\u001b[0m response \u001b[38;5;241m=\u001b[39m \u001b[38;5;28;43mself\u001b[39;49m\u001b[38;5;241;43m.\u001b[39;49m\u001b[43mpublic_request\u001b[49m\u001b[43m(\u001b[49m\n\u001b[1;32m    217\u001b[0m \u001b[43m    \u001b[49m\u001b[43murl\u001b[49m\u001b[43m,\u001b[49m\u001b[43m \u001b[49m\u001b[43mdata\u001b[49m\u001b[38;5;241;43m=\u001b[39;49m\u001b[43mdata\u001b[49m\u001b[43m,\u001b[49m\u001b[43m \u001b[49m\u001b[43mparams\u001b[49m\u001b[38;5;241;43m=\u001b[39;49m\u001b[43mparams\u001b[49m\u001b[43m,\u001b[49m\u001b[43m \u001b[49m\u001b[43mheaders\u001b[49m\u001b[38;5;241;43m=\u001b[39;49m\u001b[43mheaders\u001b[49m\u001b[43m,\u001b[49m\u001b[43m \u001b[49m\u001b[43mreturn_json\u001b[49m\u001b[38;5;241;43m=\u001b[39;49m\u001b[38;5;28;43;01mTrue\u001b[39;49;00m\n\u001b[1;32m    218\u001b[0m \u001b[43m\u001b[49m\u001b[43m)\u001b[49m\n\u001b[1;32m    219\u001b[0m \u001b[38;5;28;01mreturn\u001b[39;00m response\u001b[38;5;241m.\u001b[39mget(\u001b[38;5;124m\"\u001b[39m\u001b[38;5;124mgraphql\u001b[39m\u001b[38;5;124m\"\u001b[39m) \u001b[38;5;129;01mor\u001b[39;00m response\n",
      "File \u001b[0;32m~/opt/anaconda3/lib/python3.9/site-packages/instagrapi/mixins/public.py:105\u001b[0m, in \u001b[0;36mPublicRequestMixin.public_request\u001b[0;34m(self, url, data, params, headers, return_json, retries_count, retries_timeout)\u001b[0m\n\u001b[1;32m    100\u001b[0m \u001b[38;5;28;01mexcept\u001b[39;00m (\n\u001b[1;32m    101\u001b[0m     ClientLoginRequired,\n\u001b[1;32m    102\u001b[0m     ClientNotFoundError,\n\u001b[1;32m    103\u001b[0m     ClientBadRequestError,\n\u001b[1;32m    104\u001b[0m ) \u001b[38;5;28;01mas\u001b[39;00m e:\n\u001b[0;32m--> 105\u001b[0m     \u001b[38;5;28;01mraise\u001b[39;00m e  \u001b[38;5;66;03m# Stop retries\u001b[39;00m\n\u001b[1;32m    106\u001b[0m \u001b[38;5;66;03m# except JSONDecodeError as e:\u001b[39;00m\n\u001b[1;32m    107\u001b[0m \u001b[38;5;66;03m#     raise ClientJSONDecodeError(e, respones=self.last_public_response)\u001b[39;00m\n",
      "File \u001b[0;32m~/opt/anaconda3/lib/python3.9/site-packages/instagrapi/mixins/public.py:99\u001b[0m, in \u001b[0;36mPublicRequestMixin.public_request\u001b[0;34m(self, url, data, params, headers, return_json, retries_count, retries_timeout)\u001b[0m\n\u001b[1;32m     98\u001b[0m         random_delay(delay_range\u001b[38;5;241m=\u001b[39m\u001b[38;5;28mself\u001b[39m\u001b[38;5;241m.\u001b[39mdelay_range)\n\u001b[0;32m---> 99\u001b[0m     \u001b[38;5;28;01mreturn\u001b[39;00m \u001b[38;5;28;43mself\u001b[39;49m\u001b[38;5;241;43m.\u001b[39;49m\u001b[43m_send_public_request\u001b[49m\u001b[43m(\u001b[49m\u001b[43murl\u001b[49m\u001b[43m,\u001b[49m\u001b[43m \u001b[49m\u001b[38;5;241;43m*\u001b[39;49m\u001b[38;5;241;43m*\u001b[39;49m\u001b[43mkwargs\u001b[49m\u001b[43m)\u001b[49m\n\u001b[1;32m    100\u001b[0m \u001b[38;5;28;01mexcept\u001b[39;00m (\n\u001b[1;32m    101\u001b[0m     ClientLoginRequired,\n\u001b[1;32m    102\u001b[0m     ClientNotFoundError,\n\u001b[1;32m    103\u001b[0m     ClientBadRequestError,\n\u001b[1;32m    104\u001b[0m ) \u001b[38;5;28;01mas\u001b[39;00m e:\n",
      "File \u001b[0;32m~/opt/anaconda3/lib/python3.9/site-packages/instagrapi/mixins/public.py:201\u001b[0m, in \u001b[0;36mPublicRequestMixin._send_public_request\u001b[0;34m(self, url, data, params, headers, return_json, stream, timeout)\u001b[0m\n\u001b[1;32m    200\u001b[0m \u001b[38;5;28;01melif\u001b[39;00m e\u001b[38;5;241m.\u001b[39mresponse\u001b[38;5;241m.\u001b[39mstatus_code \u001b[38;5;241m==\u001b[39m \u001b[38;5;241m404\u001b[39m:\n\u001b[0;32m--> 201\u001b[0m     \u001b[38;5;28;01mraise\u001b[39;00m ClientNotFoundError(e, response\u001b[38;5;241m=\u001b[39me\u001b[38;5;241m.\u001b[39mresponse)\n\u001b[1;32m    202\u001b[0m \u001b[38;5;28;01mraise\u001b[39;00m ClientError(e, response\u001b[38;5;241m=\u001b[39me\u001b[38;5;241m.\u001b[39mresponse)\n",
      "\u001b[0;31mClientNotFoundError\u001b[0m: 404 Client Error: Not Found for url: https://www.instagram.com/explore/tags/anorexiasucks/?__a=1&__d=dis",
      "\nDuring handling of the above exception, another exception occurred:\n",
      "\u001b[0;31mHTTPError\u001b[0m                                 Traceback (most recent call last)",
      "File \u001b[0;32m~/opt/anaconda3/lib/python3.9/site-packages/instagrapi/mixins/private.py:359\u001b[0m, in \u001b[0;36mPrivateRequestMixin._send_private_request\u001b[0;34m(self, endpoint, data, params, login, with_signature, headers, extra_sig, domain)\u001b[0m\n\u001b[1;32m    358\u001b[0m \u001b[38;5;28mself\u001b[39m\u001b[38;5;241m.\u001b[39mlast_response \u001b[38;5;241m=\u001b[39m response\n\u001b[0;32m--> 359\u001b[0m \u001b[43mresponse\u001b[49m\u001b[38;5;241;43m.\u001b[39;49m\u001b[43mraise_for_status\u001b[49m\u001b[43m(\u001b[49m\u001b[43m)\u001b[49m\n\u001b[1;32m    360\u001b[0m \u001b[38;5;66;03m# last_json - for Sentry context in traceback\u001b[39;00m\n",
      "File \u001b[0;32m~/opt/anaconda3/lib/python3.9/site-packages/requests/models.py:960\u001b[0m, in \u001b[0;36mResponse.raise_for_status\u001b[0;34m(self)\u001b[0m\n\u001b[1;32m    959\u001b[0m \u001b[38;5;28;01mif\u001b[39;00m http_error_msg:\n\u001b[0;32m--> 960\u001b[0m     \u001b[38;5;28;01mraise\u001b[39;00m HTTPError(http_error_msg, response\u001b[38;5;241m=\u001b[39m\u001b[38;5;28mself\u001b[39m)\n",
      "\u001b[0;31mHTTPError\u001b[0m: 403 Client Error: Forbidden for url: https://i.instagram.com/api/v1/tags/anorexiasucks/sections/",
      "\nDuring handling of the above exception, another exception occurred:\n",
      "\u001b[0;31mLoginRequired\u001b[0m                             Traceback (most recent call last)",
      "Input \u001b[0;32mIn [65]\u001b[0m, in \u001b[0;36m<cell line: 24>\u001b[0;34m()\u001b[0m\n\u001b[1;32m     23\u001b[0m \u001b[38;5;66;03m# Iterate over each hashtag and collect the data\u001b[39;00m\n\u001b[1;32m     24\u001b[0m \u001b[38;5;28;01mfor\u001b[39;00m hashtag \u001b[38;5;129;01min\u001b[39;00m hashtags:\n\u001b[0;32m---> 25\u001b[0m     likes, comments \u001b[38;5;241m=\u001b[39m \u001b[43mget_posts_data\u001b[49m\u001b[43m(\u001b[49m\u001b[43mhashtag\u001b[49m\u001b[43m)\u001b[49m\n\u001b[1;32m     26\u001b[0m     all_likes\u001b[38;5;241m.\u001b[39mextend(likes)\n\u001b[1;32m     27\u001b[0m     all_comments\u001b[38;5;241m.\u001b[39mextend(comments)\n",
      "Input \u001b[0;32mIn [65]\u001b[0m, in \u001b[0;36mget_posts_data\u001b[0;34m(hashtag)\u001b[0m\n\u001b[1;32m     13\u001b[0m \u001b[38;5;28;01mdef\u001b[39;00m \u001b[38;5;21mget_posts_data\u001b[39m(hashtag):\n\u001b[0;32m---> 14\u001b[0m     posts \u001b[38;5;241m=\u001b[39m \u001b[43mcl\u001b[49m\u001b[38;5;241;43m.\u001b[39;49m\u001b[43mhashtag_medias_recent\u001b[49m\u001b[43m(\u001b[49m\u001b[43mhashtag\u001b[49m\u001b[43m,\u001b[49m\u001b[43m \u001b[49m\u001b[43mamount\u001b[49m\u001b[38;5;241;43m=\u001b[39;49m\u001b[38;5;241;43m5\u001b[39;49m\u001b[43m)\u001b[49m\n\u001b[1;32m     15\u001b[0m     likes \u001b[38;5;241m=\u001b[39m [post\u001b[38;5;241m.\u001b[39mlike_count \u001b[38;5;28;01mfor\u001b[39;00m post \u001b[38;5;129;01min\u001b[39;00m posts]\n\u001b[1;32m     16\u001b[0m     comments \u001b[38;5;241m=\u001b[39m [post\u001b[38;5;241m.\u001b[39mcomment_count \u001b[38;5;28;01mfor\u001b[39;00m post \u001b[38;5;129;01min\u001b[39;00m posts]\n",
      "File \u001b[0;32m~/opt/anaconda3/lib/python3.9/site-packages/instagrapi/mixins/hashtag.py:451\u001b[0m, in \u001b[0;36mHashtagMixin.hashtag_medias_recent\u001b[0;34m(self, name, amount)\u001b[0m\n\u001b[1;32m    449\u001b[0m     medias \u001b[38;5;241m=\u001b[39m \u001b[38;5;28mself\u001b[39m\u001b[38;5;241m.\u001b[39mhashtag_medias_recent_a1(name, amount)\n\u001b[1;32m    450\u001b[0m \u001b[38;5;28;01mexcept\u001b[39;00m ClientError:\n\u001b[0;32m--> 451\u001b[0m     medias \u001b[38;5;241m=\u001b[39m \u001b[38;5;28;43mself\u001b[39;49m\u001b[38;5;241;43m.\u001b[39;49m\u001b[43mhashtag_medias_recent_v1\u001b[49m\u001b[43m(\u001b[49m\u001b[43mname\u001b[49m\u001b[43m,\u001b[49m\u001b[43m \u001b[49m\u001b[43mamount\u001b[49m\u001b[43m)\u001b[49m\n\u001b[1;32m    452\u001b[0m \u001b[38;5;28;01mreturn\u001b[39;00m medias\n",
      "File \u001b[0;32m~/opt/anaconda3/lib/python3.9/site-packages/instagrapi/mixins/hashtag.py:430\u001b[0m, in \u001b[0;36mHashtagMixin.hashtag_medias_recent_v1\u001b[0;34m(self, name, amount)\u001b[0m\n\u001b[1;32m    414\u001b[0m \u001b[38;5;28;01mdef\u001b[39;00m \u001b[38;5;21mhashtag_medias_recent_v1\u001b[39m(\u001b[38;5;28mself\u001b[39m, name: \u001b[38;5;28mstr\u001b[39m, amount: \u001b[38;5;28mint\u001b[39m \u001b[38;5;241m=\u001b[39m \u001b[38;5;241m27\u001b[39m) \u001b[38;5;241m-\u001b[39m\u001b[38;5;241m>\u001b[39m List[Media]:\n\u001b[1;32m    415\u001b[0m \u001b[38;5;250m    \u001b[39m\u001b[38;5;124;03m\"\"\"\u001b[39;00m\n\u001b[1;32m    416\u001b[0m \u001b[38;5;124;03m    Get recent medias for a hashtag by Private Mobile API\u001b[39;00m\n\u001b[1;32m    417\u001b[0m \n\u001b[0;32m   (...)\u001b[0m\n\u001b[1;32m    428\u001b[0m \u001b[38;5;124;03m        List of objects of Media\u001b[39;00m\n\u001b[1;32m    429\u001b[0m \u001b[38;5;124;03m    \"\"\"\u001b[39;00m\n\u001b[0;32m--> 430\u001b[0m     \u001b[38;5;28;01mreturn\u001b[39;00m \u001b[38;5;28;43mself\u001b[39;49m\u001b[38;5;241;43m.\u001b[39;49m\u001b[43mhashtag_medias_v1\u001b[49m\u001b[43m(\u001b[49m\u001b[43mname\u001b[49m\u001b[43m,\u001b[49m\u001b[43m \u001b[49m\u001b[43mamount\u001b[49m\u001b[43m,\u001b[49m\u001b[43m \u001b[49m\u001b[43mtab_key\u001b[49m\u001b[38;5;241;43m=\u001b[39;49m\u001b[38;5;124;43m\"\u001b[39;49m\u001b[38;5;124;43mrecent\u001b[39;49m\u001b[38;5;124;43m\"\u001b[39;49m\u001b[43m)\u001b[49m\n",
      "File \u001b[0;32m~/opt/anaconda3/lib/python3.9/site-packages/instagrapi/mixins/hashtag.py:328\u001b[0m, in \u001b[0;36mHashtagMixin.hashtag_medias_v1\u001b[0;34m(self, name, amount, tab_key)\u001b[0m\n\u001b[1;32m    326\u001b[0m max_id \u001b[38;5;241m=\u001b[39m \u001b[38;5;28;01mNone\u001b[39;00m\n\u001b[1;32m    327\u001b[0m \u001b[38;5;28;01mwhile\u001b[39;00m \u001b[38;5;28;01mTrue\u001b[39;00m:\n\u001b[0;32m--> 328\u001b[0m     items, max_id \u001b[38;5;241m=\u001b[39m \u001b[38;5;28;43mself\u001b[39;49m\u001b[38;5;241;43m.\u001b[39;49m\u001b[43mhashtag_medias_v1_chunk\u001b[49m\u001b[43m(\u001b[49m\u001b[43mname\u001b[49m\u001b[43m,\u001b[49m\u001b[43m \u001b[49m\u001b[43mamount\u001b[49m\u001b[43m,\u001b[49m\u001b[43m \u001b[49m\u001b[43mtab_key\u001b[49m\u001b[43m,\u001b[49m\u001b[43m \u001b[49m\u001b[43mmax_id\u001b[49m\u001b[43m)\u001b[49m\n\u001b[1;32m    329\u001b[0m     medias\u001b[38;5;241m.\u001b[39mextend(items)\n\u001b[1;32m    330\u001b[0m     \u001b[38;5;28;01mif\u001b[39;00m amount \u001b[38;5;129;01mand\u001b[39;00m \u001b[38;5;28mlen\u001b[39m(medias) \u001b[38;5;241m>\u001b[39m\u001b[38;5;241m=\u001b[39m amount:\n",
      "File \u001b[0;32m~/opt/anaconda3/lib/python3.9/site-packages/instagrapi/mixins/hashtag.py:278\u001b[0m, in \u001b[0;36mHashtagMixin.hashtag_medias_v1_chunk\u001b[0;34m(self, name, max_amount, tab_key, max_id)\u001b[0m\n\u001b[1;32m    276\u001b[0m     data[\u001b[38;5;124m\"\u001b[39m\u001b[38;5;124mnext_media_ids\u001b[39m\u001b[38;5;124m\"\u001b[39m] \u001b[38;5;241m=\u001b[39m dumps(nm_ids)\n\u001b[1;32m    277\u001b[0m medias \u001b[38;5;241m=\u001b[39m []\n\u001b[0;32m--> 278\u001b[0m result \u001b[38;5;241m=\u001b[39m \u001b[38;5;28;43mself\u001b[39;49m\u001b[38;5;241;43m.\u001b[39;49m\u001b[43mprivate_request\u001b[49m\u001b[43m(\u001b[49m\n\u001b[1;32m    279\u001b[0m \u001b[43m    \u001b[49m\u001b[38;5;124;43mf\u001b[39;49m\u001b[38;5;124;43m\"\u001b[39;49m\u001b[38;5;124;43mtags/\u001b[39;49m\u001b[38;5;132;43;01m{\u001b[39;49;00m\u001b[43mname\u001b[49m\u001b[38;5;132;43;01m}\u001b[39;49;00m\u001b[38;5;124;43m/sections/\u001b[39;49m\u001b[38;5;124;43m\"\u001b[39;49m\u001b[43m,\u001b[49m\n\u001b[1;32m    280\u001b[0m \u001b[43m    \u001b[49m\u001b[38;5;66;43;03m# params={\"max_id\": max_id} if max_id else {},\u001b[39;49;00m\n\u001b[1;32m    281\u001b[0m \u001b[43m    \u001b[49m\u001b[43mdata\u001b[49m\u001b[38;5;241;43m=\u001b[39;49m\u001b[43mdata\u001b[49m\u001b[43m,\u001b[49m\n\u001b[1;32m    282\u001b[0m \u001b[43m    \u001b[49m\u001b[43mwith_signature\u001b[49m\u001b[38;5;241;43m=\u001b[39;49m\u001b[38;5;28;43;01mFalse\u001b[39;49;00m\u001b[43m,\u001b[49m\n\u001b[1;32m    283\u001b[0m \u001b[43m\u001b[49m\u001b[43m)\u001b[49m\n\u001b[1;32m    284\u001b[0m next_max_id \u001b[38;5;241m=\u001b[39m \u001b[38;5;28;01mNone\u001b[39;00m\n\u001b[1;32m    285\u001b[0m \u001b[38;5;28;01mif\u001b[39;00m result\u001b[38;5;241m.\u001b[39mget(\u001b[38;5;124m\"\u001b[39m\u001b[38;5;124mnext_max_id\u001b[39m\u001b[38;5;124m\"\u001b[39m):\n",
      "File \u001b[0;32m~/opt/anaconda3/lib/python3.9/site-packages/instagrapi/mixins/private.py:541\u001b[0m, in \u001b[0;36mPrivateRequestMixin.private_request\u001b[0;34m(self, endpoint, data, params, login, with_signature, headers, extra_sig, domain)\u001b[0m\n\u001b[1;32m    539\u001b[0m     \u001b[38;5;28mself\u001b[39m\u001b[38;5;241m.\u001b[39mchallenge_resolve(\u001b[38;5;28mself\u001b[39m\u001b[38;5;241m.\u001b[39mlast_json)\n\u001b[1;32m    540\u001b[0m \u001b[38;5;28;01melse\u001b[39;00m:\n\u001b[0;32m--> 541\u001b[0m     \u001b[38;5;28;01mraise\u001b[39;00m e\n\u001b[1;32m    542\u001b[0m \u001b[38;5;28;01mif\u001b[39;00m login \u001b[38;5;129;01mand\u001b[39;00m \u001b[38;5;28mself\u001b[39m\u001b[38;5;241m.\u001b[39muser_id:\n\u001b[1;32m    543\u001b[0m     \u001b[38;5;66;03m# After challenge resolve return last_json\u001b[39;00m\n\u001b[1;32m    544\u001b[0m     \u001b[38;5;28;01mreturn\u001b[39;00m \u001b[38;5;28mself\u001b[39m\u001b[38;5;241m.\u001b[39mlast_json\n",
      "File \u001b[0;32m~/opt/anaconda3/lib/python3.9/site-packages/instagrapi/mixins/private.py:526\u001b[0m, in \u001b[0;36mPrivateRequestMixin.private_request\u001b[0;34m(self, endpoint, data, params, login, with_signature, headers, extra_sig, domain)\u001b[0m\n\u001b[1;32m    524\u001b[0m         random_delay(delay_range\u001b[38;5;241m=\u001b[39m\u001b[38;5;28mself\u001b[39m\u001b[38;5;241m.\u001b[39mdelay_range)\n\u001b[1;32m    525\u001b[0m     \u001b[38;5;28mself\u001b[39m\u001b[38;5;241m.\u001b[39mprivate_requests_count \u001b[38;5;241m+\u001b[39m\u001b[38;5;241m=\u001b[39m \u001b[38;5;241m1\u001b[39m\n\u001b[0;32m--> 526\u001b[0m     \u001b[38;5;28;43mself\u001b[39;49m\u001b[38;5;241;43m.\u001b[39;49m\u001b[43m_send_private_request\u001b[49m\u001b[43m(\u001b[49m\u001b[43mendpoint\u001b[49m\u001b[43m,\u001b[49m\u001b[43m \u001b[49m\u001b[38;5;241;43m*\u001b[39;49m\u001b[38;5;241;43m*\u001b[39;49m\u001b[43mkwargs\u001b[49m\u001b[43m)\u001b[49m\n\u001b[1;32m    527\u001b[0m \u001b[38;5;28;01mexcept\u001b[39;00m ClientRequestTimeout:\n\u001b[1;32m    528\u001b[0m     \u001b[38;5;28mself\u001b[39m\u001b[38;5;241m.\u001b[39mlogger\u001b[38;5;241m.\u001b[39minfo(\n\u001b[1;32m    529\u001b[0m         \u001b[38;5;124m\"\u001b[39m\u001b[38;5;124mWait 60 seconds and try one more time (ClientRequestTimeout)\u001b[39m\u001b[38;5;124m\"\u001b[39m\n\u001b[1;32m    530\u001b[0m     )\n",
      "File \u001b[0;32m~/opt/anaconda3/lib/python3.9/site-packages/instagrapi/mixins/private.py:385\u001b[0m, in \u001b[0;36mPrivateRequestMixin._send_private_request\u001b[0;34m(self, endpoint, data, params, login, with_signature, headers, extra_sig, domain)\u001b[0m\n\u001b[1;32m    383\u001b[0m \u001b[38;5;28;01mif\u001b[39;00m e\u001b[38;5;241m.\u001b[39mresponse\u001b[38;5;241m.\u001b[39mstatus_code \u001b[38;5;241m==\u001b[39m \u001b[38;5;241m403\u001b[39m:\n\u001b[1;32m    384\u001b[0m     \u001b[38;5;28;01mif\u001b[39;00m message \u001b[38;5;241m==\u001b[39m \u001b[38;5;124m\"\u001b[39m\u001b[38;5;124mlogin_required\u001b[39m\u001b[38;5;124m\"\u001b[39m:\n\u001b[0;32m--> 385\u001b[0m         \u001b[38;5;28;01mraise\u001b[39;00m LoginRequired(response\u001b[38;5;241m=\u001b[39me\u001b[38;5;241m.\u001b[39mresponse, \u001b[38;5;241m*\u001b[39m\u001b[38;5;241m*\u001b[39mlast_json)\n\u001b[1;32m    386\u001b[0m     \u001b[38;5;28;01mif\u001b[39;00m \u001b[38;5;28mlen\u001b[39m(e\u001b[38;5;241m.\u001b[39mresponse\u001b[38;5;241m.\u001b[39mtext) \u001b[38;5;241m<\u001b[39m \u001b[38;5;241m512\u001b[39m:\n\u001b[1;32m    387\u001b[0m         last_json[\u001b[38;5;124m\"\u001b[39m\u001b[38;5;124mmessage\u001b[39m\u001b[38;5;124m\"\u001b[39m] \u001b[38;5;241m=\u001b[39m e\u001b[38;5;241m.\u001b[39mresponse\u001b[38;5;241m.\u001b[39mtext\n",
      "\u001b[0;31mLoginRequired\u001b[0m: login_required"
     ]
    }
   ],
   "source": [
    "import numpy as np\n",
    "import pandas as pd\n",
    "\n",
    "# List of hashtags\n",
    "hashtags = [\n",
    "    \"bulimiaaaa\", \"anorexia\", \"eatingdisorder\", \"fat\", \"bigeater\", \"anorexiasucks\", \"bulimiarecovery\", \n",
    "    \"anorexiarecovery\", \"eatingdisorderhospital\", \"bodydysmorphia\", \"bodydysmorphicdisorder\", \"edrecovery\",\n",
    "    \"anorexianervosarecovery\", \"anorexiawarrior\", \"fightanorexia\", \"edcommunity\", \"edrecoverywarrior\", \n",
    "    \"eatingdisorderrecovery\", \"eatingdisordercommunity\", \"anorexiarecovering\", \"fearfoods\", \"eatingfearfoods\"\n",
    "]\n",
    "\n",
    "# Function to get posts data for each hashtag\n",
    "def get_posts_data(hashtag):\n",
    "    posts = cl.hashtag_medias_recent(hashtag, amount=5)\n",
    "    likes = [post.like_count for post in posts]\n",
    "    comments = [post.comment_count for post in posts]\n",
    "    return likes, comments\n",
    "\n",
    "# Initialize lists to store the data\n",
    "all_likes = []\n",
    "all_comments = []\n",
    "\n",
    "# Iterate over each hashtag and collect the data\n",
    "for hashtag in hashtags:\n",
    "    likes, comments = get_posts_data(hashtag)\n",
    "    all_likes.extend(likes)\n",
    "    all_comments.extend(comments)\n"
   ]
  },
  {
   "cell_type": "code",
   "execution_count": 64,
   "metadata": {},
   "outputs": [
    {
     "name": "stdout",
     "output_type": "stream",
     "text": [
      "Likes Statistics:\n",
      "Mean: 1856.1166666666666\n",
      "Median: 542.0\n",
      "Max: 27523\n",
      "Min: 2\n",
      "Comments Statistics:\n",
      "Mean: 33.68333333333333\n",
      "Median: 10.0\n",
      "Max: 448\n",
      "Min: 0\n"
     ]
    }
   ],
   "source": [
    "# Create DataFrame\n",
    "df = pd.DataFrame({\n",
    "    'hashtag': np.repeat(hashtags, 5),\n",
    "    'likes': all_likes,\n",
    "    'comments': all_comments\n",
    "})\n",
    "\n",
    "# Calculate statistics\n",
    "likes_stats = {\n",
    "    'mean': df['likes'].mean(),\n",
    "    'median': df['likes'].median(),\n",
    "    'max': df['likes'].max(),\n",
    "    'min': df['likes'].min()\n",
    "}\n",
    "\n",
    "comments_stats = {\n",
    "    'mean': df['comments'].mean(),\n",
    "    'median': df['comments'].median(),\n",
    "    'max': df['comments'].max(),\n",
    "    'min': df['comments'].min()\n",
    "}\n",
    "\n",
    "print(\"Likes Statistics:\")\n",
    "print(f\"Mean: {likes_stats['mean']}\")\n",
    "print(f\"Median: {likes_stats['median']}\")\n",
    "print(f\"Max: {likes_stats['max']}\")\n",
    "print(f\"Min: {likes_stats['min']}\")\n",
    "\n",
    "print(\"Comments Statistics:\")\n",
    "print(f\"Mean: {comments_stats['mean']}\")\n",
    "print(f\"Median: {comments_stats['median']}\")\n",
    "print(f\"Max: {comments_stats['max']}\")\n",
    "print(f\"Min: {comments_stats['min']}\")\n"
   ]
  },
  {
   "cell_type": "code",
   "execution_count": null,
   "metadata": {},
   "outputs": [],
   "source": []
  }
 ],
 "metadata": {
  "kernelspec": {
   "display_name": "Python 3 (ipykernel)",
   "language": "python",
   "name": "python3"
  },
  "language_info": {
   "codemirror_mode": {
    "name": "ipython",
    "version": 3
   },
   "file_extension": ".py",
   "mimetype": "text/x-python",
   "name": "python",
   "nbconvert_exporter": "python",
   "pygments_lexer": "ipython3",
   "version": "3.9.12"
  }
 },
 "nbformat": 4,
 "nbformat_minor": 4
}
