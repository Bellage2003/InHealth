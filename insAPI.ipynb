{
 "cells": [
  {
   "cell_type": "code",
   "execution_count": 1,
   "metadata": {},
   "outputs": [],
   "source": [
    "from instagrapi import Client"
   ]
  },
  {
   "cell_type": "code",
   "execution_count": 146,
   "metadata": {},
   "outputs": [],
   "source": [
    "from instagrapi import Client\n",
    "from instagrapi.exceptions import LoginRequired\n",
    "import logging\n",
    "\n",
    "logger = logging.getLogger()\n",
    "\n",
    "def login_user():\n",
    "    \"\"\"\n",
    "    Attempts to login to Instagram using either the provided session information\n",
    "    or the provided username and password.\n",
    "    \"\"\"\n",
    "\n",
    "    cl = Client()\n",
    "    session = cl.load_settings(\"session.json\")\n",
    "\n",
    "    login_via_session = False\n",
    "    login_via_pw = False\n",
    "\n",
    "    if session:\n",
    "        try:\n",
    "            cl.set_settings(session)\n",
    "            cl.login(USERNAME, PASSWORD)\n",
    "\n",
    "            # check if session is valid\n",
    "            try:\n",
    "                cl.get_timeline_feed()\n",
    "            except LoginRequired:\n",
    "                logger.info(\"Session is invalid, need to login via username and password\")\n",
    "\n",
    "                old_session = cl.get_settings()\n",
    "\n",
    "                # use the same device uuids across logins\n",
    "                cl.set_settings({})\n",
    "                cl.set_uuids(old_session[\"uuids\"])\n",
    "\n",
    "                cl.login(USERNAME, PASSWORD)\n",
    "            login_via_session = True\n",
    "        except Exception as e:\n",
    "            logger.info(\"Couldn't login user using session information: %s\" % e)\n",
    "\n",
    "    if not login_via_session:\n",
    "        try:\n",
    "            logger.info(\"Attempting to login via username and password. username: %s\" % USERNAME)\n",
    "            if cl.login(USERNAME, PASSWORD):\n",
    "                login_via_pw = True\n",
    "        except Exception as e:\n",
    "            logger.info(\"Couldn't login user using username and password: %s\" % e)\n",
    "\n",
    "    if not login_via_pw and not login_via_session:\n",
    "        raise Exception(\"Couldn't login user with either password or session\")"
   ]
  },
  {
   "cell_type": "code",
   "execution_count": 162,
   "metadata": {},
   "outputs": [
    {
     "data": {
      "text/plain": [
       "True"
      ]
     },
     "execution_count": 162,
     "metadata": {},
     "output_type": "execute_result"
    }
   ],
   "source": [
    "cl = Client()\n",
    "\n",
    "# adds a random delay between 1 and 3 seconds after each request\n",
    "cl.delay_range = [1, 3]\n",
    "\n",
    "cl.login('inhealth2024', 'info498account')"
   ]
  },
  {
   "cell_type": "code",
   "execution_count": 4,
   "metadata": {},
   "outputs": [
    {
     "data": {
      "text/plain": [
       "{'id': '17841561697088396',\n",
       " 'name': 'uofw',\n",
       " 'media_count': 38207,\n",
       " 'profile_pic_url': None}"
      ]
     },
     "execution_count": 4,
     "metadata": {},
     "output_type": "execute_result"
    }
   ],
   "source": [
    "hashtag = cl.hashtag_info('uofw')\n",
    "hashtag.dict()"
   ]
  },
  {
   "cell_type": "code",
   "execution_count": 4,
   "metadata": {},
   "outputs": [
    {
     "ename": "ChallengeUnknownStep",
     "evalue": "ChallengeResolve: Unknown step_name \"submit_phone\" for \"inhealth2024\" in challenge resolver: {'step_name': 'submit_phone', 'step_data': {'phone_number': 'None', 'show_whatsapp_otp_choice': True, 'whatsapp': False}, 'flow_render_type': 3, 'bloks_action': 'com.instagram.challenge.navigation.take_challenge', 'cni': 17848354917209289, 'challenge_context': 'Af7Y0HftvP9bZBYvf3vY0Y-BuZJ3gwp8QgQo9LM8a9BPvvmRqIa7pvyT866c9_Ic4j9-RnpnLOjJfgTqQD5-vSI6rQhsJpSDeq3C-ZhpPojtTbL4a2nvLIHa3JIMNqLaV3uTrSaUuyshbYGc1QyM654GBxBBRpreMnu7PNkEAxw1waKu0AD-NIU5GnL34gLC_M3_pbKG9Ro21wtwthBqBRrGxpj0WsIfayuVLUMff3G-', 'challenge_type_enum_str': 'SMS', 'status': 'ok'}",
     "output_type": "error",
     "traceback": [
      "\u001b[1;31m---------------------------------------------------------------------------\u001b[0m",
      "\u001b[1;31mHTTPError\u001b[0m                                 Traceback (most recent call last)",
      "File \u001b[1;32mc:\\Python311\\Lib\\site-packages\\instagrapi\\mixins\\public.py:170\u001b[0m, in \u001b[0;36mPublicRequestMixin._send_public_request\u001b[1;34m(self, url, data, params, headers, return_json, stream, timeout)\u001b[0m\n\u001b[0;32m    169\u001b[0m \u001b[38;5;28mself\u001b[39m\u001b[38;5;241m.\u001b[39mlast_public_response \u001b[38;5;241m=\u001b[39m response\n\u001b[1;32m--> 170\u001b[0m \u001b[43mresponse\u001b[49m\u001b[38;5;241;43m.\u001b[39;49m\u001b[43mraise_for_status\u001b[49m\u001b[43m(\u001b[49m\u001b[43m)\u001b[49m\n\u001b[0;32m    171\u001b[0m \u001b[38;5;28;01mif\u001b[39;00m return_json:\n",
      "File \u001b[1;32m~\\AppData\\Roaming\\Python\\Python311\\site-packages\\requests\\models.py:1021\u001b[0m, in \u001b[0;36mResponse.raise_for_status\u001b[1;34m(self)\u001b[0m\n\u001b[0;32m   1020\u001b[0m \u001b[38;5;28;01mif\u001b[39;00m http_error_msg:\n\u001b[1;32m-> 1021\u001b[0m     \u001b[38;5;28;01mraise\u001b[39;00m HTTPError(http_error_msg, response\u001b[38;5;241m=\u001b[39m\u001b[38;5;28mself\u001b[39m)\n",
      "\u001b[1;31mHTTPError\u001b[0m: 404 Client Error: Not Found for url: https://www.instagram.com/explore/tags/skinny/?__a=1&__d=dis",
      "\nDuring handling of the above exception, another exception occurred:\n",
      "\u001b[1;31mClientNotFoundError\u001b[0m                       Traceback (most recent call last)",
      "File \u001b[1;32mc:\\Python311\\Lib\\site-packages\\instagrapi\\mixins\\hashtag.py:117\u001b[0m, in \u001b[0;36mHashtagMixin.hashtag_info\u001b[1;34m(self, name)\u001b[0m\n\u001b[0;32m    116\u001b[0m \u001b[38;5;28;01mtry\u001b[39;00m:\n\u001b[1;32m--> 117\u001b[0m     hashtag \u001b[38;5;241m=\u001b[39m \u001b[38;5;28;43mself\u001b[39;49m\u001b[38;5;241;43m.\u001b[39;49m\u001b[43mhashtag_info_a1\u001b[49m\u001b[43m(\u001b[49m\u001b[43mname\u001b[49m\u001b[43m)\u001b[49m\n\u001b[0;32m    118\u001b[0m \u001b[38;5;28;01mexcept\u001b[39;00m \u001b[38;5;167;01mException\u001b[39;00m:\n\u001b[0;32m    119\u001b[0m     \u001b[38;5;66;03m# Users do not understand the output of such information and create bug reports\u001b[39;00m\n\u001b[0;32m    120\u001b[0m     \u001b[38;5;66;03m# such this - https://github.com/subzeroid/instagrapi/issues/364\u001b[39;00m\n\u001b[0;32m    121\u001b[0m     \u001b[38;5;66;03m# if not isinstance(e, ClientError):\u001b[39;00m\n\u001b[0;32m    122\u001b[0m     \u001b[38;5;66;03m#     self.logger.exception(e)\u001b[39;00m\n",
      "File \u001b[1;32mc:\\Python311\\Lib\\site-packages\\instagrapi\\mixins\\hashtag.py:45\u001b[0m, in \u001b[0;36mHashtagMixin.hashtag_info_a1\u001b[1;34m(self, name, max_id)\u001b[0m\n\u001b[0;32m     44\u001b[0m \u001b[38;5;28;01mtry\u001b[39;00m:\n\u001b[1;32m---> 45\u001b[0m     data \u001b[38;5;241m=\u001b[39m \u001b[38;5;28;43mself\u001b[39;49m\u001b[38;5;241;43m.\u001b[39;49m\u001b[43mpublic_a1_request\u001b[49m\u001b[43m(\u001b[49m\u001b[38;5;124;43mf\u001b[39;49m\u001b[38;5;124;43m\"\u001b[39;49m\u001b[38;5;124;43m/explore/tags/\u001b[39;49m\u001b[38;5;132;43;01m{\u001b[39;49;00m\u001b[43mname\u001b[49m\u001b[38;5;132;43;01m}\u001b[39;49;00m\u001b[38;5;124;43m/\u001b[39;49m\u001b[38;5;124;43m\"\u001b[39;49m\u001b[43m,\u001b[49m\u001b[43m \u001b[49m\u001b[43mparams\u001b[49m\u001b[38;5;241;43m=\u001b[39;49m\u001b[43mparams\u001b[49m\u001b[43m)\u001b[49m\n\u001b[0;32m     46\u001b[0m \u001b[38;5;28;01mexcept\u001b[39;00m ClientUnauthorizedError:\n",
      "File \u001b[1;32mc:\\Python311\\Lib\\site-packages\\instagrapi\\mixins\\public.py:216\u001b[0m, in \u001b[0;36mPublicRequestMixin.public_a1_request\u001b[1;34m(self, endpoint, data, params, headers)\u001b[0m\n\u001b[0;32m    214\u001b[0m params\u001b[38;5;241m.\u001b[39mupdate({\u001b[38;5;124m\"\u001b[39m\u001b[38;5;124m__a\u001b[39m\u001b[38;5;124m\"\u001b[39m: \u001b[38;5;241m1\u001b[39m, \u001b[38;5;124m\"\u001b[39m\u001b[38;5;124m__d\u001b[39m\u001b[38;5;124m\"\u001b[39m: \u001b[38;5;124m\"\u001b[39m\u001b[38;5;124mdis\u001b[39m\u001b[38;5;124m\"\u001b[39m})\n\u001b[1;32m--> 216\u001b[0m response \u001b[38;5;241m=\u001b[39m \u001b[38;5;28;43mself\u001b[39;49m\u001b[38;5;241;43m.\u001b[39;49m\u001b[43mpublic_request\u001b[49m\u001b[43m(\u001b[49m\n\u001b[0;32m    217\u001b[0m \u001b[43m    \u001b[49m\u001b[43murl\u001b[49m\u001b[43m,\u001b[49m\u001b[43m \u001b[49m\u001b[43mdata\u001b[49m\u001b[38;5;241;43m=\u001b[39;49m\u001b[43mdata\u001b[49m\u001b[43m,\u001b[49m\u001b[43m \u001b[49m\u001b[43mparams\u001b[49m\u001b[38;5;241;43m=\u001b[39;49m\u001b[43mparams\u001b[49m\u001b[43m,\u001b[49m\u001b[43m \u001b[49m\u001b[43mheaders\u001b[49m\u001b[38;5;241;43m=\u001b[39;49m\u001b[43mheaders\u001b[49m\u001b[43m,\u001b[49m\u001b[43m \u001b[49m\u001b[43mreturn_json\u001b[49m\u001b[38;5;241;43m=\u001b[39;49m\u001b[38;5;28;43;01mTrue\u001b[39;49;00m\n\u001b[0;32m    218\u001b[0m \u001b[43m\u001b[49m\u001b[43m)\u001b[49m\n\u001b[0;32m    219\u001b[0m \u001b[38;5;28;01mreturn\u001b[39;00m response\u001b[38;5;241m.\u001b[39mget(\u001b[38;5;124m\"\u001b[39m\u001b[38;5;124mgraphql\u001b[39m\u001b[38;5;124m\"\u001b[39m) \u001b[38;5;129;01mor\u001b[39;00m response\n",
      "File \u001b[1;32mc:\\Python311\\Lib\\site-packages\\instagrapi\\mixins\\public.py:105\u001b[0m, in \u001b[0;36mPublicRequestMixin.public_request\u001b[1;34m(self, url, data, params, headers, return_json, retries_count, retries_timeout)\u001b[0m\n\u001b[0;32m    100\u001b[0m \u001b[38;5;28;01mexcept\u001b[39;00m (\n\u001b[0;32m    101\u001b[0m     ClientLoginRequired,\n\u001b[0;32m    102\u001b[0m     ClientNotFoundError,\n\u001b[0;32m    103\u001b[0m     ClientBadRequestError,\n\u001b[0;32m    104\u001b[0m ) \u001b[38;5;28;01mas\u001b[39;00m e:\n\u001b[1;32m--> 105\u001b[0m     \u001b[38;5;28;01mraise\u001b[39;00m e  \u001b[38;5;66;03m# Stop retries\u001b[39;00m\n\u001b[0;32m    106\u001b[0m \u001b[38;5;66;03m# except JSONDecodeError as e:\u001b[39;00m\n\u001b[0;32m    107\u001b[0m \u001b[38;5;66;03m#     raise ClientJSONDecodeError(e, respones=self.last_public_response)\u001b[39;00m\n",
      "File \u001b[1;32mc:\\Python311\\Lib\\site-packages\\instagrapi\\mixins\\public.py:99\u001b[0m, in \u001b[0;36mPublicRequestMixin.public_request\u001b[1;34m(self, url, data, params, headers, return_json, retries_count, retries_timeout)\u001b[0m\n\u001b[0;32m     98\u001b[0m         random_delay(delay_range\u001b[38;5;241m=\u001b[39m\u001b[38;5;28mself\u001b[39m\u001b[38;5;241m.\u001b[39mdelay_range)\n\u001b[1;32m---> 99\u001b[0m     \u001b[38;5;28;01mreturn\u001b[39;00m \u001b[38;5;28;43mself\u001b[39;49m\u001b[38;5;241;43m.\u001b[39;49m\u001b[43m_send_public_request\u001b[49m\u001b[43m(\u001b[49m\u001b[43murl\u001b[49m\u001b[43m,\u001b[49m\u001b[43m \u001b[49m\u001b[38;5;241;43m*\u001b[39;49m\u001b[38;5;241;43m*\u001b[39;49m\u001b[43mkwargs\u001b[49m\u001b[43m)\u001b[49m\n\u001b[0;32m    100\u001b[0m \u001b[38;5;28;01mexcept\u001b[39;00m (\n\u001b[0;32m    101\u001b[0m     ClientLoginRequired,\n\u001b[0;32m    102\u001b[0m     ClientNotFoundError,\n\u001b[0;32m    103\u001b[0m     ClientBadRequestError,\n\u001b[0;32m    104\u001b[0m ) \u001b[38;5;28;01mas\u001b[39;00m e:\n",
      "File \u001b[1;32mc:\\Python311\\Lib\\site-packages\\instagrapi\\mixins\\public.py:201\u001b[0m, in \u001b[0;36mPublicRequestMixin._send_public_request\u001b[1;34m(self, url, data, params, headers, return_json, stream, timeout)\u001b[0m\n\u001b[0;32m    200\u001b[0m \u001b[38;5;28;01melif\u001b[39;00m e\u001b[38;5;241m.\u001b[39mresponse\u001b[38;5;241m.\u001b[39mstatus_code \u001b[38;5;241m==\u001b[39m \u001b[38;5;241m404\u001b[39m:\n\u001b[1;32m--> 201\u001b[0m     \u001b[38;5;28;01mraise\u001b[39;00m ClientNotFoundError(e, response\u001b[38;5;241m=\u001b[39me\u001b[38;5;241m.\u001b[39mresponse)\n\u001b[0;32m    202\u001b[0m \u001b[38;5;28;01mraise\u001b[39;00m ClientError(e, response\u001b[38;5;241m=\u001b[39me\u001b[38;5;241m.\u001b[39mresponse)\n",
      "\u001b[1;31mClientNotFoundError\u001b[0m: 404 Client Error: Not Found for url: https://www.instagram.com/explore/tags/skinny/?__a=1&__d=dis",
      "\nDuring handling of the above exception, another exception occurred:\n",
      "\u001b[1;31mHTTPError\u001b[0m                                 Traceback (most recent call last)",
      "File \u001b[1;32mc:\\Python311\\Lib\\site-packages\\instagrapi\\mixins\\private.py:359\u001b[0m, in \u001b[0;36mPrivateRequestMixin._send_private_request\u001b[1;34m(self, endpoint, data, params, login, with_signature, headers, extra_sig, domain)\u001b[0m\n\u001b[0;32m    358\u001b[0m \u001b[38;5;28mself\u001b[39m\u001b[38;5;241m.\u001b[39mlast_response \u001b[38;5;241m=\u001b[39m response\n\u001b[1;32m--> 359\u001b[0m \u001b[43mresponse\u001b[49m\u001b[38;5;241;43m.\u001b[39;49m\u001b[43mraise_for_status\u001b[49m\u001b[43m(\u001b[49m\u001b[43m)\u001b[49m\n\u001b[0;32m    360\u001b[0m \u001b[38;5;66;03m# last_json - for Sentry context in traceback\u001b[39;00m\n",
      "File \u001b[1;32m~\\AppData\\Roaming\\Python\\Python311\\site-packages\\requests\\models.py:1021\u001b[0m, in \u001b[0;36mResponse.raise_for_status\u001b[1;34m(self)\u001b[0m\n\u001b[0;32m   1020\u001b[0m \u001b[38;5;28;01mif\u001b[39;00m http_error_msg:\n\u001b[1;32m-> 1021\u001b[0m     \u001b[38;5;28;01mraise\u001b[39;00m HTTPError(http_error_msg, response\u001b[38;5;241m=\u001b[39m\u001b[38;5;28mself\u001b[39m)\n",
      "\u001b[1;31mHTTPError\u001b[0m: 400 Client Error: Bad Request for url: https://i.instagram.com/api/v1/tags/skinny/info/",
      "\nDuring handling of the above exception, another exception occurred:\n",
      "\u001b[1;31mChallengeRequired\u001b[0m                         Traceback (most recent call last)",
      "File \u001b[1;32mc:\\Python311\\Lib\\site-packages\\instagrapi\\mixins\\private.py:526\u001b[0m, in \u001b[0;36mPrivateRequestMixin.private_request\u001b[1;34m(self, endpoint, data, params, login, with_signature, headers, extra_sig, domain)\u001b[0m\n\u001b[0;32m    525\u001b[0m     \u001b[38;5;28mself\u001b[39m\u001b[38;5;241m.\u001b[39mprivate_requests_count \u001b[38;5;241m+\u001b[39m\u001b[38;5;241m=\u001b[39m \u001b[38;5;241m1\u001b[39m\n\u001b[1;32m--> 526\u001b[0m     \u001b[38;5;28;43mself\u001b[39;49m\u001b[38;5;241;43m.\u001b[39;49m\u001b[43m_send_private_request\u001b[49m\u001b[43m(\u001b[49m\u001b[43mendpoint\u001b[49m\u001b[43m,\u001b[49m\u001b[43m \u001b[49m\u001b[38;5;241;43m*\u001b[39;49m\u001b[38;5;241;43m*\u001b[39;49m\u001b[43mkwargs\u001b[49m\u001b[43m)\u001b[49m\n\u001b[0;32m    527\u001b[0m \u001b[38;5;28;01mexcept\u001b[39;00m ClientRequestTimeout:\n",
      "File \u001b[1;32mc:\\Python311\\Lib\\site-packages\\instagrapi\\mixins\\private.py:392\u001b[0m, in \u001b[0;36mPrivateRequestMixin._send_private_request\u001b[1;34m(self, endpoint, data, params, login, with_signature, headers, extra_sig, domain)\u001b[0m\n\u001b[0;32m    391\u001b[0m \u001b[38;5;28;01mif\u001b[39;00m message \u001b[38;5;241m==\u001b[39m \u001b[38;5;124m\"\u001b[39m\u001b[38;5;124mchallenge_required\u001b[39m\u001b[38;5;124m\"\u001b[39m:\n\u001b[1;32m--> 392\u001b[0m     \u001b[38;5;28;01mraise\u001b[39;00m ChallengeRequired(\u001b[38;5;241m*\u001b[39m\u001b[38;5;241m*\u001b[39mlast_json)\n\u001b[0;32m    393\u001b[0m \u001b[38;5;28;01melif\u001b[39;00m message \u001b[38;5;241m==\u001b[39m \u001b[38;5;124m\"\u001b[39m\u001b[38;5;124mfeedback_required\u001b[39m\u001b[38;5;124m\"\u001b[39m:\n",
      "\u001b[1;31mChallengeRequired\u001b[0m: challenge_required",
      "\nDuring handling of the above exception, another exception occurred:\n",
      "\u001b[1;31mChallengeUnknownStep\u001b[0m                      Traceback (most recent call last)",
      "Cell \u001b[1;32mIn[4], line 1\u001b[0m\n\u001b[1;32m----> 1\u001b[0m hashtag \u001b[38;5;241m=\u001b[39m \u001b[43mcl\u001b[49m\u001b[38;5;241;43m.\u001b[39;49m\u001b[43mhashtag_info\u001b[49m\u001b[43m(\u001b[49m\u001b[38;5;124;43m'\u001b[39;49m\u001b[38;5;124;43mskinny\u001b[39;49m\u001b[38;5;124;43m'\u001b[39;49m\u001b[43m)\u001b[49m\n\u001b[0;32m      2\u001b[0m hashtag\u001b[38;5;241m.\u001b[39mdict()\n",
      "File \u001b[1;32mc:\\Python311\\Lib\\site-packages\\instagrapi\\mixins\\hashtag.py:123\u001b[0m, in \u001b[0;36mHashtagMixin.hashtag_info\u001b[1;34m(self, name)\u001b[0m\n\u001b[0;32m    117\u001b[0m     hashtag \u001b[38;5;241m=\u001b[39m \u001b[38;5;28mself\u001b[39m\u001b[38;5;241m.\u001b[39mhashtag_info_a1(name)\n\u001b[0;32m    118\u001b[0m \u001b[38;5;28;01mexcept\u001b[39;00m \u001b[38;5;167;01mException\u001b[39;00m:\n\u001b[0;32m    119\u001b[0m     \u001b[38;5;66;03m# Users do not understand the output of such information and create bug reports\u001b[39;00m\n\u001b[0;32m    120\u001b[0m     \u001b[38;5;66;03m# such this - https://github.com/subzeroid/instagrapi/issues/364\u001b[39;00m\n\u001b[0;32m    121\u001b[0m     \u001b[38;5;66;03m# if not isinstance(e, ClientError):\u001b[39;00m\n\u001b[0;32m    122\u001b[0m     \u001b[38;5;66;03m#     self.logger.exception(e)\u001b[39;00m\n\u001b[1;32m--> 123\u001b[0m     hashtag \u001b[38;5;241m=\u001b[39m \u001b[38;5;28;43mself\u001b[39;49m\u001b[38;5;241;43m.\u001b[39;49m\u001b[43mhashtag_info_v1\u001b[49m\u001b[43m(\u001b[49m\u001b[43mname\u001b[49m\u001b[43m)\u001b[49m\n\u001b[0;32m    124\u001b[0m \u001b[38;5;28;01mreturn\u001b[39;00m hashtag\n",
      "File \u001b[1;32mc:\\Python311\\Lib\\site-packages\\instagrapi\\mixins\\hashtag.py:99\u001b[0m, in \u001b[0;36mHashtagMixin.hashtag_info_v1\u001b[1;34m(self, name)\u001b[0m\n\u001b[0;32m     85\u001b[0m \u001b[38;5;28;01mdef\u001b[39;00m \u001b[38;5;21mhashtag_info_v1\u001b[39m(\u001b[38;5;28mself\u001b[39m, name: \u001b[38;5;28mstr\u001b[39m) \u001b[38;5;241m-\u001b[39m\u001b[38;5;241m>\u001b[39m Hashtag:\n\u001b[0;32m     86\u001b[0m \u001b[38;5;250m    \u001b[39m\u001b[38;5;124;03m\"\"\"\u001b[39;00m\n\u001b[0;32m     87\u001b[0m \u001b[38;5;124;03m    Get information about a hashtag by Private Mobile API\u001b[39;00m\n\u001b[0;32m     88\u001b[0m \n\u001b[1;32m   (...)\u001b[0m\n\u001b[0;32m     97\u001b[0m \u001b[38;5;124;03m        An object of Hashtag\u001b[39;00m\n\u001b[0;32m     98\u001b[0m \u001b[38;5;124;03m    \"\"\"\u001b[39;00m\n\u001b[1;32m---> 99\u001b[0m     result \u001b[38;5;241m=\u001b[39m \u001b[38;5;28;43mself\u001b[39;49m\u001b[38;5;241;43m.\u001b[39;49m\u001b[43mprivate_request\u001b[49m\u001b[43m(\u001b[49m\u001b[38;5;124;43mf\u001b[39;49m\u001b[38;5;124;43m\"\u001b[39;49m\u001b[38;5;124;43mtags/\u001b[39;49m\u001b[38;5;132;43;01m{\u001b[39;49;00m\u001b[43mname\u001b[49m\u001b[38;5;132;43;01m}\u001b[39;49;00m\u001b[38;5;124;43m/info/\u001b[39;49m\u001b[38;5;124;43m\"\u001b[39;49m\u001b[43m)\u001b[49m\n\u001b[0;32m    100\u001b[0m     \u001b[38;5;28;01mreturn\u001b[39;00m extract_hashtag_v1(result)\n",
      "File \u001b[1;32mc:\\Python311\\Lib\\site-packages\\instagrapi\\mixins\\private.py:539\u001b[0m, in \u001b[0;36mPrivateRequestMixin.private_request\u001b[1;34m(self, endpoint, data, params, login, with_signature, headers, extra_sig, domain)\u001b[0m\n\u001b[0;32m    537\u001b[0m     \u001b[38;5;28mself\u001b[39m\u001b[38;5;241m.\u001b[39mhandle_exception(\u001b[38;5;28mself\u001b[39m, e)\n\u001b[0;32m    538\u001b[0m \u001b[38;5;28;01melif\u001b[39;00m \u001b[38;5;28misinstance\u001b[39m(e, ChallengeRequired):\n\u001b[1;32m--> 539\u001b[0m     \u001b[38;5;28;43mself\u001b[39;49m\u001b[38;5;241;43m.\u001b[39;49m\u001b[43mchallenge_resolve\u001b[49m\u001b[43m(\u001b[49m\u001b[38;5;28;43mself\u001b[39;49m\u001b[38;5;241;43m.\u001b[39;49m\u001b[43mlast_json\u001b[49m\u001b[43m)\u001b[49m\n\u001b[0;32m    540\u001b[0m \u001b[38;5;28;01melse\u001b[39;00m:\n\u001b[0;32m    541\u001b[0m     \u001b[38;5;28;01mraise\u001b[39;00m e\n",
      "File \u001b[1;32mc:\\Python311\\Lib\\site-packages\\instagrapi\\mixins\\challenge.py:81\u001b[0m, in \u001b[0;36mChallengeResolveMixin.challenge_resolve\u001b[1;34m(self, last_json)\u001b[0m\n\u001b[0;32m     79\u001b[0m     \u001b[38;5;28;01massert\u001b[39;00m \u001b[38;5;28mself\u001b[39m\u001b[38;5;241m.\u001b[39mlast_json[\u001b[38;5;124m\"\u001b[39m\u001b[38;5;124mmessage\u001b[39m\u001b[38;5;124m\"\u001b[39m] \u001b[38;5;241m==\u001b[39m \u001b[38;5;124m\"\u001b[39m\u001b[38;5;124mchallenge_required\u001b[39m\u001b[38;5;124m\"\u001b[39m, \u001b[38;5;28mself\u001b[39m\u001b[38;5;241m.\u001b[39mlast_json\n\u001b[0;32m     80\u001b[0m     \u001b[38;5;28;01mreturn\u001b[39;00m \u001b[38;5;28mself\u001b[39m\u001b[38;5;241m.\u001b[39mchallenge_resolve_contact_form(challenge_url)\n\u001b[1;32m---> 81\u001b[0m \u001b[38;5;28;01mreturn\u001b[39;00m \u001b[38;5;28;43mself\u001b[39;49m\u001b[38;5;241;43m.\u001b[39;49m\u001b[43mchallenge_resolve_simple\u001b[49m\u001b[43m(\u001b[49m\u001b[43mchallenge_url\u001b[49m\u001b[43m)\u001b[49m\n",
      "File \u001b[1;32mc:\\Python311\\Lib\\site-packages\\instagrapi\\mixins\\challenge.py:535\u001b[0m, in \u001b[0;36mChallengeResolveMixin.challenge_resolve_simple\u001b[1;34m(self, challenge_url)\u001b[0m\n\u001b[0;32m    533\u001b[0m     \u001b[38;5;28;01mreturn\u001b[39;00m \u001b[38;5;28;01mTrue\u001b[39;00m\n\u001b[0;32m    534\u001b[0m \u001b[38;5;28;01melse\u001b[39;00m:\n\u001b[1;32m--> 535\u001b[0m     \u001b[38;5;28;01mraise\u001b[39;00m ChallengeUnknownStep(\n\u001b[0;32m    536\u001b[0m         \u001b[38;5;124mf\u001b[39m\u001b[38;5;124m'\u001b[39m\u001b[38;5;124mChallengeResolve: Unknown step_name \u001b[39m\u001b[38;5;124m\"\u001b[39m\u001b[38;5;132;01m{\u001b[39;00mstep_name\u001b[38;5;132;01m}\u001b[39;00m\u001b[38;5;124m\"\u001b[39m\u001b[38;5;124m for \u001b[39m\u001b[38;5;124m'\u001b[39m\n\u001b[0;32m    537\u001b[0m         \u001b[38;5;124mf\u001b[39m\u001b[38;5;124m'\u001b[39m\u001b[38;5;124m\"\u001b[39m\u001b[38;5;132;01m{\u001b[39;00m\u001b[38;5;28mself\u001b[39m\u001b[38;5;241m.\u001b[39musername\u001b[38;5;132;01m}\u001b[39;00m\u001b[38;5;124m\"\u001b[39m\u001b[38;5;124m in challenge resolver: \u001b[39m\u001b[38;5;132;01m{\u001b[39;00m\u001b[38;5;28mself\u001b[39m\u001b[38;5;241m.\u001b[39mlast_json\u001b[38;5;132;01m}\u001b[39;00m\u001b[38;5;124m'\u001b[39m\n\u001b[0;32m    538\u001b[0m     )\n\u001b[0;32m    539\u001b[0m \u001b[38;5;28;01mreturn\u001b[39;00m \u001b[38;5;28;01mTrue\u001b[39;00m\n",
      "\u001b[1;31mChallengeUnknownStep\u001b[0m: ChallengeResolve: Unknown step_name \"submit_phone\" for \"inhealth2024\" in challenge resolver: {'step_name': 'submit_phone', 'step_data': {'phone_number': 'None', 'show_whatsapp_otp_choice': True, 'whatsapp': False}, 'flow_render_type': 3, 'bloks_action': 'com.instagram.challenge.navigation.take_challenge', 'cni': 17848354917209289, 'challenge_context': 'Af7Y0HftvP9bZBYvf3vY0Y-BuZJ3gwp8QgQo9LM8a9BPvvmRqIa7pvyT866c9_Ic4j9-RnpnLOjJfgTqQD5-vSI6rQhsJpSDeq3C-ZhpPojtTbL4a2nvLIHa3JIMNqLaV3uTrSaUuyshbYGc1QyM654GBxBBRpreMnu7PNkEAxw1waKu0AD-NIU5GnL34gLC_M3_pbKG9Ro21wtwthBqBRrGxpj0WsIfayuVLUMff3G-', 'challenge_type_enum_str': 'SMS', 'status': 'ok'}"
     ]
    }
   ],
   "source": [
    "hashtag = cl.hashtag_info('skinny')\n",
    "hashtag.dict()"
   ]
  },
  {
   "cell_type": "code",
   "execution_count": 5,
   "metadata": {},
   "outputs": [
    {
     "data": {
      "text/plain": [
       "{'id': '17843800831014498',\n",
       " 'name': 'anorexia',\n",
       " 'media_count': None,\n",
       " 'profile_pic_url': None}"
      ]
     },
     "execution_count": 5,
     "metadata": {},
     "output_type": "execute_result"
    }
   ],
   "source": [
    "hashtag = cl.hashtag_info('Anorexia')\n",
    "hashtag.dict()"
   ]
  },
  {
   "cell_type": "code",
   "execution_count": 6,
   "metadata": {},
   "outputs": [
    {
     "data": {
      "text/plain": [
       "{'id': '17842150909069894',\n",
       " 'name': '厌食症',\n",
       " 'media_count': 203,\n",
       " 'profile_pic_url': None}"
      ]
     },
     "execution_count": 6,
     "metadata": {},
     "output_type": "execute_result"
    }
   ],
   "source": [
    "hashtag = cl.hashtag_info('厌食症')\n",
    "hashtag.dict()"
   ]
  },
  {
   "cell_type": "code",
   "execution_count": 38,
   "metadata": {},
   "outputs": [
    {
     "data": {
      "text/plain": [
       "{'id': '17841523525099976',\n",
       " 'name': 'anorexiaaaa',\n",
       " 'media_count': 21,\n",
       " 'profile_pic_url': None}"
      ]
     },
     "execution_count": 38,
     "metadata": {},
     "output_type": "execute_result"
    }
   ],
   "source": [
    "hashtag = cl.hashtag_info('Anorexiaaaa')\n",
    "hashtag.dict()"
   ]
  },
  {
   "cell_type": "code",
   "execution_count": 9,
   "metadata": {},
   "outputs": [
    {
     "data": {
      "text/plain": [
       "{'id': '17841563413109892',\n",
       " 'name': 'weightloss',\n",
       " 'media_count': 90304860,\n",
       " 'profile_pic_url': None}"
      ]
     },
     "execution_count": 9,
     "metadata": {},
     "output_type": "execute_result"
    }
   ],
   "source": [
    "hashtag = cl.hashtag_info('weightloss')\n",
    "hashtag.dict()"
   ]
  },
  {
   "cell_type": "code",
   "execution_count": 10,
   "metadata": {},
   "outputs": [
    {
     "data": {
      "text/plain": [
       "{'id': '17843834149031077',\n",
       " 'name': 'bulimia',\n",
       " 'media_count': None,\n",
       " 'profile_pic_url': None}"
      ]
     },
     "execution_count": 10,
     "metadata": {},
     "output_type": "execute_result"
    }
   ],
   "source": [
    "hashtag = cl.hashtag_info('bulimia')\n",
    "hashtag.dict()"
   ]
  },
  {
   "cell_type": "code",
   "execution_count": 7,
   "metadata": {},
   "outputs": [
    {
     "data": {
      "text/plain": [
       "{'id': '17843952550035498',\n",
       " 'name': '暴食症',\n",
       " 'media_count': 7142,\n",
       " 'profile_pic_url': None}"
      ]
     },
     "execution_count": 7,
     "metadata": {},
     "output_type": "execute_result"
    }
   ],
   "source": [
    "hashtag = cl.hashtag_info('暴食症')\n",
    "hashtag.dict()"
   ]
  },
  {
   "cell_type": "code",
   "execution_count": 41,
   "metadata": {},
   "outputs": [
    {
     "data": {
      "text/plain": [
       "{'id': '17843289721000121',\n",
       " 'name': 'bulimiaaa',\n",
       " 'media_count': None,\n",
       " 'profile_pic_url': None}"
      ]
     },
     "execution_count": 41,
     "metadata": {},
     "output_type": "execute_result"
    }
   ],
   "source": [
    "hashtag = cl.hashtag_info('bulimiaaa')\n",
    "hashtag.dict()"
   ]
  },
  {
   "cell_type": "code",
   "execution_count": 24,
   "metadata": {},
   "outputs": [
    {
     "data": {
      "text/plain": [
       "{'id': '17842424359026310',\n",
       " 'name': '暴食',\n",
       " 'media_count': 39230,\n",
       " 'profile_pic_url': None}"
      ]
     },
     "execution_count": 24,
     "metadata": {},
     "output_type": "execute_result"
    }
   ],
   "source": [
    "hashtag = cl.hashtag_info('暴食')\n",
    "hashtag.dict()"
   ]
  },
  {
   "cell_type": "code",
   "execution_count": 14,
   "metadata": {},
   "outputs": [
    {
     "data": {
      "text/plain": [
       "{'id': '17843758810003833',\n",
       " 'name': 'bigeater',\n",
       " 'media_count': 38226,\n",
       " 'profile_pic_url': None}"
      ]
     },
     "execution_count": 14,
     "metadata": {},
     "output_type": "execute_result"
    }
   ],
   "source": [
    "hashtag = cl.hashtag_info('bigeater')\n",
    "hashtag.dict()"
   ]
  },
  {
   "cell_type": "code",
   "execution_count": 8,
   "metadata": {},
   "outputs": [
    {
     "data": {
      "text/plain": [
       "{'id': '17843717329055514',\n",
       " 'name': 'selfharm',\n",
       " 'media_count': None,\n",
       " 'profile_pic_url': None}"
      ]
     },
     "execution_count": 8,
     "metadata": {},
     "output_type": "execute_result"
    }
   ],
   "source": [
    "hashtag = cl.hashtag_info('selfharm')\n",
    "hashtag.dict()"
   ]
  },
  {
   "cell_type": "code",
   "execution_count": 9,
   "metadata": {},
   "outputs": [
    {
     "data": {
      "text/plain": [
       "{'id': '17843282458058260',\n",
       " 'name': '自残',\n",
       " 'media_count': 361,\n",
       " 'profile_pic_url': None}"
      ]
     },
     "execution_count": 9,
     "metadata": {},
     "output_type": "execute_result"
    }
   ],
   "source": [
    "hashtag = cl.hashtag_info('自残')\n",
    "hashtag.dict()"
   ]
  },
  {
   "cell_type": "code",
   "execution_count": 59,
   "metadata": {},
   "outputs": [
    {
     "data": {
      "text/plain": [
       "{'id': '17843872792012663',\n",
       " 'name': 'anorexi',\n",
       " 'media_count': None,\n",
       " 'profile_pic_url': None}"
      ]
     },
     "execution_count": 59,
     "metadata": {},
     "output_type": "execute_result"
    }
   ],
   "source": [
    "hashtag = cl.hashtag_info('anorexi')\n",
    "hashtag.dict()"
   ]
  },
  {
   "cell_type": "code",
   "execution_count": 102,
   "metadata": {},
   "outputs": [
    {
     "ename": "ClientNotFoundError",
     "evalue": "404 Client Error: Not Found for url: https://www.instagram.com/explore/tags/%E5%87%8F%E8%82%A5%E6%97%A5%E8%AE%B0/?__a=1&__d=dis",
     "output_type": "error",
     "traceback": [
      "\u001b[1;31m---------------------------------------------------------------------------\u001b[0m",
      "\u001b[1;31mHTTPError\u001b[0m                                 Traceback (most recent call last)",
      "File \u001b[1;32mc:\\Python311\\Lib\\site-packages\\instagrapi\\mixins\\public.py:170\u001b[0m, in \u001b[0;36mPublicRequestMixin._send_public_request\u001b[1;34m(self, url, data, params, headers, return_json, stream, timeout)\u001b[0m\n\u001b[0;32m    169\u001b[0m \u001b[38;5;28mself\u001b[39m\u001b[38;5;241m.\u001b[39mlast_public_response \u001b[38;5;241m=\u001b[39m response\n\u001b[1;32m--> 170\u001b[0m \u001b[43mresponse\u001b[49m\u001b[38;5;241;43m.\u001b[39;49m\u001b[43mraise_for_status\u001b[49m\u001b[43m(\u001b[49m\u001b[43m)\u001b[49m\n\u001b[0;32m    171\u001b[0m \u001b[38;5;28;01mif\u001b[39;00m return_json:\n",
      "File \u001b[1;32m~\\AppData\\Roaming\\Python\\Python311\\site-packages\\requests\\models.py:1021\u001b[0m, in \u001b[0;36mResponse.raise_for_status\u001b[1;34m(self)\u001b[0m\n\u001b[0;32m   1020\u001b[0m \u001b[38;5;28;01mif\u001b[39;00m http_error_msg:\n\u001b[1;32m-> 1021\u001b[0m     \u001b[38;5;28;01mraise\u001b[39;00m HTTPError(http_error_msg, response\u001b[38;5;241m=\u001b[39m\u001b[38;5;28mself\u001b[39m)\n",
      "\u001b[1;31mHTTPError\u001b[0m: 404 Client Error: Not Found for url: https://www.instagram.com/explore/tags/%E5%87%8F%E8%82%A5%E6%97%A5%E8%AE%B0/?__a=1&__d=dis",
      "\nDuring handling of the above exception, another exception occurred:\n",
      "\u001b[1;31mClientNotFoundError\u001b[0m                       Traceback (most recent call last)",
      "Cell \u001b[1;32mIn[102], line 1\u001b[0m\n\u001b[1;32m----> 1\u001b[0m related \u001b[38;5;241m=\u001b[39m \u001b[43mcl\u001b[49m\u001b[38;5;241;43m.\u001b[39;49m\u001b[43mhashtag_related_hashtags\u001b[49m\u001b[43m(\u001b[49m\u001b[38;5;124;43m'\u001b[39;49m\u001b[38;5;124;43m减肥日记\u001b[39;49m\u001b[38;5;124;43m'\u001b[39;49m\u001b[43m)\u001b[49m\n\u001b[0;32m      2\u001b[0m related\n",
      "File \u001b[1;32mc:\\Python311\\Lib\\site-packages\\instagrapi\\mixins\\hashtag.py:140\u001b[0m, in \u001b[0;36mHashtagMixin.hashtag_related_hashtags\u001b[1;34m(self, name)\u001b[0m\n\u001b[0;32m    126\u001b[0m \u001b[38;5;28;01mdef\u001b[39;00m \u001b[38;5;21mhashtag_related_hashtags\u001b[39m(\u001b[38;5;28mself\u001b[39m, name: \u001b[38;5;28mstr\u001b[39m) \u001b[38;5;241m-\u001b[39m\u001b[38;5;241m>\u001b[39m List[Hashtag]:\n\u001b[0;32m    127\u001b[0m \u001b[38;5;250m    \u001b[39m\u001b[38;5;124;03m\"\"\"\u001b[39;00m\n\u001b[0;32m    128\u001b[0m \u001b[38;5;124;03m    Get related hashtags from a hashtag\u001b[39;00m\n\u001b[0;32m    129\u001b[0m \n\u001b[1;32m   (...)\u001b[0m\n\u001b[0;32m    138\u001b[0m \u001b[38;5;124;03m        List of objects of Hashtag\u001b[39;00m\n\u001b[0;32m    139\u001b[0m \u001b[38;5;124;03m    \"\"\"\u001b[39;00m\n\u001b[1;32m--> 140\u001b[0m     data \u001b[38;5;241m=\u001b[39m \u001b[38;5;28;43mself\u001b[39;49m\u001b[38;5;241;43m.\u001b[39;49m\u001b[43mpublic_a1_request\u001b[49m\u001b[43m(\u001b[49m\u001b[38;5;124;43mf\u001b[39;49m\u001b[38;5;124;43m\"\u001b[39;49m\u001b[38;5;124;43m/explore/tags/\u001b[39;49m\u001b[38;5;132;43;01m{\u001b[39;49;00m\u001b[43mname\u001b[49m\u001b[38;5;132;43;01m}\u001b[39;49;00m\u001b[38;5;124;43m/\u001b[39;49m\u001b[38;5;124;43m\"\u001b[39;49m\u001b[43m)\u001b[49m\n\u001b[0;32m    141\u001b[0m     \u001b[38;5;28;01mif\u001b[39;00m \u001b[38;5;129;01mnot\u001b[39;00m data\u001b[38;5;241m.\u001b[39mget(\u001b[38;5;124m\"\u001b[39m\u001b[38;5;124mhashtag\u001b[39m\u001b[38;5;124m\"\u001b[39m):\n\u001b[0;32m    142\u001b[0m         \u001b[38;5;28;01mraise\u001b[39;00m HashtagNotFound(name\u001b[38;5;241m=\u001b[39mname, \u001b[38;5;241m*\u001b[39m\u001b[38;5;241m*\u001b[39mdata)\n",
      "File \u001b[1;32mc:\\Python311\\Lib\\site-packages\\instagrapi\\mixins\\public.py:216\u001b[0m, in \u001b[0;36mPublicRequestMixin.public_a1_request\u001b[1;34m(self, endpoint, data, params, headers)\u001b[0m\n\u001b[0;32m    213\u001b[0m params \u001b[38;5;241m=\u001b[39m params \u001b[38;5;129;01mor\u001b[39;00m {}\n\u001b[0;32m    214\u001b[0m params\u001b[38;5;241m.\u001b[39mupdate({\u001b[38;5;124m\"\u001b[39m\u001b[38;5;124m__a\u001b[39m\u001b[38;5;124m\"\u001b[39m: \u001b[38;5;241m1\u001b[39m, \u001b[38;5;124m\"\u001b[39m\u001b[38;5;124m__d\u001b[39m\u001b[38;5;124m\"\u001b[39m: \u001b[38;5;124m\"\u001b[39m\u001b[38;5;124mdis\u001b[39m\u001b[38;5;124m\"\u001b[39m})\n\u001b[1;32m--> 216\u001b[0m response \u001b[38;5;241m=\u001b[39m \u001b[38;5;28;43mself\u001b[39;49m\u001b[38;5;241;43m.\u001b[39;49m\u001b[43mpublic_request\u001b[49m\u001b[43m(\u001b[49m\n\u001b[0;32m    217\u001b[0m \u001b[43m    \u001b[49m\u001b[43murl\u001b[49m\u001b[43m,\u001b[49m\u001b[43m \u001b[49m\u001b[43mdata\u001b[49m\u001b[38;5;241;43m=\u001b[39;49m\u001b[43mdata\u001b[49m\u001b[43m,\u001b[49m\u001b[43m \u001b[49m\u001b[43mparams\u001b[49m\u001b[38;5;241;43m=\u001b[39;49m\u001b[43mparams\u001b[49m\u001b[43m,\u001b[49m\u001b[43m \u001b[49m\u001b[43mheaders\u001b[49m\u001b[38;5;241;43m=\u001b[39;49m\u001b[43mheaders\u001b[49m\u001b[43m,\u001b[49m\u001b[43m \u001b[49m\u001b[43mreturn_json\u001b[49m\u001b[38;5;241;43m=\u001b[39;49m\u001b[38;5;28;43;01mTrue\u001b[39;49;00m\n\u001b[0;32m    218\u001b[0m \u001b[43m\u001b[49m\u001b[43m)\u001b[49m\n\u001b[0;32m    219\u001b[0m \u001b[38;5;28;01mreturn\u001b[39;00m response\u001b[38;5;241m.\u001b[39mget(\u001b[38;5;124m\"\u001b[39m\u001b[38;5;124mgraphql\u001b[39m\u001b[38;5;124m\"\u001b[39m) \u001b[38;5;129;01mor\u001b[39;00m response\n",
      "File \u001b[1;32mc:\\Python311\\Lib\\site-packages\\instagrapi\\mixins\\public.py:105\u001b[0m, in \u001b[0;36mPublicRequestMixin.public_request\u001b[1;34m(self, url, data, params, headers, return_json, retries_count, retries_timeout)\u001b[0m\n\u001b[0;32m     99\u001b[0m     \u001b[38;5;28;01mreturn\u001b[39;00m \u001b[38;5;28mself\u001b[39m\u001b[38;5;241m.\u001b[39m_send_public_request(url, \u001b[38;5;241m*\u001b[39m\u001b[38;5;241m*\u001b[39mkwargs)\n\u001b[0;32m    100\u001b[0m \u001b[38;5;28;01mexcept\u001b[39;00m (\n\u001b[0;32m    101\u001b[0m     ClientLoginRequired,\n\u001b[0;32m    102\u001b[0m     ClientNotFoundError,\n\u001b[0;32m    103\u001b[0m     ClientBadRequestError,\n\u001b[0;32m    104\u001b[0m ) \u001b[38;5;28;01mas\u001b[39;00m e:\n\u001b[1;32m--> 105\u001b[0m     \u001b[38;5;28;01mraise\u001b[39;00m e  \u001b[38;5;66;03m# Stop retries\u001b[39;00m\n\u001b[0;32m    106\u001b[0m \u001b[38;5;66;03m# except JSONDecodeError as e:\u001b[39;00m\n\u001b[0;32m    107\u001b[0m \u001b[38;5;66;03m#     raise ClientJSONDecodeError(e, respones=self.last_public_response)\u001b[39;00m\n\u001b[0;32m    108\u001b[0m \u001b[38;5;28;01mexcept\u001b[39;00m ClientError \u001b[38;5;28;01mas\u001b[39;00m e:\n",
      "File \u001b[1;32mc:\\Python311\\Lib\\site-packages\\instagrapi\\mixins\\public.py:99\u001b[0m, in \u001b[0;36mPublicRequestMixin.public_request\u001b[1;34m(self, url, data, params, headers, return_json, retries_count, retries_timeout)\u001b[0m\n\u001b[0;32m     97\u001b[0m     \u001b[38;5;28;01mif\u001b[39;00m \u001b[38;5;28mself\u001b[39m\u001b[38;5;241m.\u001b[39mdelay_range:\n\u001b[0;32m     98\u001b[0m         random_delay(delay_range\u001b[38;5;241m=\u001b[39m\u001b[38;5;28mself\u001b[39m\u001b[38;5;241m.\u001b[39mdelay_range)\n\u001b[1;32m---> 99\u001b[0m     \u001b[38;5;28;01mreturn\u001b[39;00m \u001b[38;5;28;43mself\u001b[39;49m\u001b[38;5;241;43m.\u001b[39;49m\u001b[43m_send_public_request\u001b[49m\u001b[43m(\u001b[49m\u001b[43murl\u001b[49m\u001b[43m,\u001b[49m\u001b[43m \u001b[49m\u001b[38;5;241;43m*\u001b[39;49m\u001b[38;5;241;43m*\u001b[39;49m\u001b[43mkwargs\u001b[49m\u001b[43m)\u001b[49m\n\u001b[0;32m    100\u001b[0m \u001b[38;5;28;01mexcept\u001b[39;00m (\n\u001b[0;32m    101\u001b[0m     ClientLoginRequired,\n\u001b[0;32m    102\u001b[0m     ClientNotFoundError,\n\u001b[0;32m    103\u001b[0m     ClientBadRequestError,\n\u001b[0;32m    104\u001b[0m ) \u001b[38;5;28;01mas\u001b[39;00m e:\n\u001b[0;32m    105\u001b[0m     \u001b[38;5;28;01mraise\u001b[39;00m e  \u001b[38;5;66;03m# Stop retries\u001b[39;00m\n",
      "File \u001b[1;32mc:\\Python311\\Lib\\site-packages\\instagrapi\\mixins\\public.py:201\u001b[0m, in \u001b[0;36mPublicRequestMixin._send_public_request\u001b[1;34m(self, url, data, params, headers, return_json, stream, timeout)\u001b[0m\n\u001b[0;32m    199\u001b[0m         \u001b[38;5;28;01mraise\u001b[39;00m ClientThrottledError(e, response\u001b[38;5;241m=\u001b[39me\u001b[38;5;241m.\u001b[39mresponse)\n\u001b[0;32m    200\u001b[0m     \u001b[38;5;28;01melif\u001b[39;00m e\u001b[38;5;241m.\u001b[39mresponse\u001b[38;5;241m.\u001b[39mstatus_code \u001b[38;5;241m==\u001b[39m \u001b[38;5;241m404\u001b[39m:\n\u001b[1;32m--> 201\u001b[0m         \u001b[38;5;28;01mraise\u001b[39;00m ClientNotFoundError(e, response\u001b[38;5;241m=\u001b[39me\u001b[38;5;241m.\u001b[39mresponse)\n\u001b[0;32m    202\u001b[0m     \u001b[38;5;28;01mraise\u001b[39;00m ClientError(e, response\u001b[38;5;241m=\u001b[39me\u001b[38;5;241m.\u001b[39mresponse)\n\u001b[0;32m    204\u001b[0m \u001b[38;5;28;01mexcept\u001b[39;00m requests\u001b[38;5;241m.\u001b[39mConnectionError \u001b[38;5;28;01mas\u001b[39;00m e:\n",
      "\u001b[1;31mClientNotFoundError\u001b[0m: 404 Client Error: Not Found for url: https://www.instagram.com/explore/tags/%E5%87%8F%E8%82%A5%E6%97%A5%E8%AE%B0/?__a=1&__d=dis"
     ]
    }
   ],
   "source": [
    "related = cl.hashtag_related_hashtags('减肥日记')\n",
    "related"
   ]
  },
  {
   "cell_type": "code",
   "execution_count": 129,
   "metadata": {},
   "outputs": [
    {
     "data": {
      "text/plain": [
       "{'pk': 2750705843337808696,\n",
       " 'id': '2750705843337808696_47935612411',\n",
       " 'code': 'CYseGQBvcs4',\n",
       " 'taken_at': datetime.datetime(2022, 1, 14, 3, 8, 31, tzinfo=TzInfo(UTC)),\n",
       " 'media_type': 8,\n",
       " 'image_versions2': {'candidates': [{'width': 1080,\n",
       "    'height': 1080,\n",
       "    'url': 'https://scontent-sea1-1.cdninstagram.com/v/t51.29350-15/271755849_1275308122961423_4205723006275223867_n.jpg?stp=dst-jpg_e35_s1080x1080&_nc_ht=scontent-sea1-1.cdninstagram.com&_nc_cat=111&_nc_ohc=di1mmccI-8IQ7kNvgFg-Sv4&edm=AMKDjl4BAAAA&ccb=7-5&ig_cache_key=Mjc1MDcwNTgzOTM3ODQ3ODkyMQ%3D%3D.2-ccb7-5&oh=00_AYBFGcJB4Ap5ycnRKysYzhItAsbVcAdKvQOABhYVLwibFA&oe=6656DF97&_nc_sid=472314',\n",
       "    'scans_profile': ''},\n",
       "   {'width': 320,\n",
       "    'height': 320,\n",
       "    'url': 'https://scontent-sea1-1.cdninstagram.com/v/t51.29350-15/271755849_1275308122961423_4205723006275223867_n.jpg?stp=dst-jpg_e35_s320x320&_nc_ht=scontent-sea1-1.cdninstagram.com&_nc_cat=111&_nc_ohc=di1mmccI-8IQ7kNvgFg-Sv4&edm=AMKDjl4BAAAA&ccb=7-5&ig_cache_key=Mjc1MDcwNTgzOTM3ODQ3ODkyMQ%3D%3D.2-ccb7-5&oh=00_AYDRMP4O5skQunbFPO4_PdhXjMVen3qcp8ptKV-wiyQvUw&oe=6656DF97&_nc_sid=472314',\n",
       "    'scans_profile': ''}]},\n",
       " 'product_type': 'carousel_container',\n",
       " 'thumbnail_url': None,\n",
       " 'location': None,\n",
       " 'user': {'pk': '47935612411',\n",
       "  'username': 'neko.yuko.voxy',\n",
       "  'full_name': 'ゆうこ',\n",
       "  'profile_pic_url': Url('https://scontent-sea1-1.cdninstagram.com/v/t51.2885-19/362636319_224598520545873_3511698227517857022_n.jpg?stp=dst-jpg_e0_s150x150&_nc_ht=scontent-sea1-1.cdninstagram.com&_nc_cat=109&_nc_ohc=kzdty2ONbpoQ7kNvgEJ2uSj&edm=AMKDjl4BAAAA&ccb=7-5&oh=00_AYDoW7efb7-N3ROwp7mCWBTvfoxQBg8FMjJGEpqJc4Ib0g&oe=6656E951&_nc_sid=472314'),\n",
       "  'profile_pic_url_hd': None,\n",
       "  'is_private': False},\n",
       " 'comment_count': 8,\n",
       " 'comments_disabled': False,\n",
       " 'commenting_disabled_for_viewer': False,\n",
       " 'like_count': 88,\n",
       " 'play_count': 0,\n",
       " 'has_liked': False,\n",
       " 'caption_text': 'カリン催吐処置から24時間経過。\\n\\n元気にご飯食べてます😉\\n\\n昨日お昼のとりささみご飯は抜きだったので、１日ぶりのささみ❤️笑\\n\\nいつもより無心に食べてました😍\\nいつもこぼしまくるのに今日はいっこもこぼさず🤣\\n\\n元気にしております☺️\\n\\n今日は雪がすごくて寒い🥶\\n雪国のようです☃️\\n\\n#うちの猫 #ねこ#ネコ#猫#きじとら#キジトラ#ブラウンタビー#ねこすたぐらむ#猫好き#猫バカ#元野良猫#猫は家族#猫がいる幸せ#猫のいる暮らし #術後201日目#キジトラ白#おすねこ#かりん#2歳#猫好きさんと繋がりたい #猫スタグラム #生まれてくれてありがとう#猫部 #猫写真 #ねこスタグラム#ねこ好き#誤飲#催吐#催吐処置#ご飯',\n",
       " 'accessibility_caption': None,\n",
       " 'usertags': [],\n",
       " 'sponsor_tags': [],\n",
       " 'video_url': None,\n",
       " 'view_count': 0,\n",
       " 'video_duration': 0.0,\n",
       " 'title': '',\n",
       " 'resources': [{'pk': '2750705839378478921',\n",
       "   'video_url': None,\n",
       "   'thumbnail_url': Url('https://scontent-sea1-1.cdninstagram.com/v/t51.29350-15/271755849_1275308122961423_4205723006275223867_n.jpg?stp=dst-jpg_e35_s1080x1080&efg=eyJ2ZW5jb2RlX3RhZyI6ImltYWdlX3VybGdlbi4xNDQweDE0NDAuc2RyLmYyOTM1MCJ9&_nc_ht=scontent-sea1-1.cdninstagram.com&_nc_cat=111&_nc_ohc=di1mmccI-8IQ7kNvgFg-Sv4&edm=AMKDjl4BAAAA&ccb=7-5&ig_cache_key=Mjc1MDcwNTgzOTM3ODQ3ODkyMQ%3D%3D.2-ccb7-5&oh=00_AYBFGcJB4Ap5ycnRKysYzhItAsbVcAdKvQOABhYVLwibFA&oe=6656DF97&_nc_sid=472314'),\n",
       "   'media_type': 1},\n",
       "  {'pk': '2750705839386849583',\n",
       "   'video_url': None,\n",
       "   'thumbnail_url': Url('https://scontent-sea1-1.cdninstagram.com/v/t51.29350-15/271925052_1090349025084234_3249517494064453446_n.jpg?stp=dst-jpg_e35_s1080x1080&efg=eyJ2ZW5jb2RlX3RhZyI6ImltYWdlX3VybGdlbi4xNDQweDE0NDAuc2RyLmYyOTM1MCJ9&_nc_ht=scontent-sea1-1.cdninstagram.com&_nc_cat=106&_nc_ohc=kfh1pofoZDkQ7kNvgE77gHK&edm=AMKDjl4BAAAA&ccb=7-5&ig_cache_key=Mjc1MDcwNTgzOTM4Njg0OTU4Mw%3D%3D.2-ccb7-5&oh=00_AYByBSiRms-dtCwnPg1W_kJFT1Vo_8Ohv35-QcX_jVnoaA&oe=6656CABF&_nc_sid=472314'),\n",
       "   'media_type': 1}],\n",
       " 'clips_metadata': {}}"
      ]
     },
     "execution_count": 129,
     "metadata": {},
     "output_type": "execute_result"
    }
   ],
   "source": [
    "medias = cl.hashtag_medias_recent('催吐', amount=20)\n",
    "medias[4].dict()"
   ]
  },
  {
   "cell_type": "code",
   "execution_count": 18,
   "metadata": {},
   "outputs": [
    {
     "data": {
      "text/plain": [
       "'Basicalllly'"
      ]
     },
     "execution_count": 18,
     "metadata": {},
     "output_type": "execute_result"
    }
   ],
   "source": [
    "medias = cl.hashtag_medias_top('Anorexiaaaa', amount=4)\n",
    "medias[3].caption_text"
   ]
  },
  {
   "cell_type": "code",
   "execution_count": 164,
   "metadata": {},
   "outputs": [
    {
     "name": "stdout",
     "output_type": "stream",
     "text": [
      "https://scontent-sea1-1.cdninstagram.com/v/t51.2885-15/13704086_306162019735329_630422456_n.jpg?se=7&stp=dst-jpg_e35&efg=eyJ2ZW5jb2RlX3RhZyI6ImltYWdlX3VybGdlbi4xMDgweDEwODAuc2RyLmYyODg1In0&_nc_ht=scontent-sea1-1.cdninstagram.com&_nc_cat=109&_nc_ohc=K2yAVYVd5HQQ7kNvgFDwM_x&edm=AMKDjl4BAAAA&ccb=7-5&ig_cache_key=MTMwNDkzMjMyMzM1NjA0ODY4Mg%3D%3D.2-ccb7-5&oh=00_AYDrXWneMztMPWmLhoysK1-uPHqA0YaKF-lWtLD4VH_L2w&oe=66585B8F&_nc_sid=472314\n",
      "https://scontent-sea1-1.cdninstagram.com/v/t51.2885-15/13715225_1610360599294614_328109583_n.jpg?se=7&stp=dst-jpg_e35&efg=eyJ2ZW5jb2RlX3RhZyI6ImltYWdlX3VybGdlbi4xMDgweDEwODAuc2RyLmYyODg1In0&_nc_ht=scontent-sea1-1.cdninstagram.com&_nc_cat=106&_nc_ohc=0NPW2VPDbx4Q7kNvgEWQlPq&edm=AMKDjl4BAAAA&ccb=7-5&ig_cache_key=MTMwNTQ0NTQ2NDA2MTkwMzQzMA%3D%3D.2-ccb7-5&oh=00_AYAqHC2h_2rGFLUlzAjc2Fj3zYZ4ZvBW2_1DaHlNJyYMMA&oe=665874FB&_nc_sid=472314\n",
      "https://scontent-sea1-1.cdninstagram.com/v/t51.2885-15/41548078_431824367222241_2755371310265955042_n.jpg?se=7&stp=dst-jpg_e35&efg=eyJ2ZW5jb2RlX3RhZyI6ImltYWdlX3VybGdlbi4xMDgweDgxMC5zZHIuZjI4ODUifQ&_nc_ht=scontent-sea1-1.cdninstagram.com&_nc_cat=109&_nc_ohc=0Cjv4KdmqgoQ7kNvgHI0tac&edm=AMKDjl4BAAAA&ccb=7-5&ig_cache_key=MTg3Mzg0NzY1NDgxNTk0NDc4Nw%3D%3D.2-ccb7-5&oh=00_AYDMhvaqwZ5MrkB777AeTdjAiC4rOSHruaBeJQ0zlO7JlQ&oe=66587283&_nc_sid=472314\n",
      "https://scontent-sea1-1.cdninstagram.com/v/t51.2885-15/41418466_317352172177641_3728804849459478252_n.jpg?se=7&stp=dst-jpg_e35&efg=eyJ2ZW5jb2RlX3RhZyI6ImltYWdlX3VybGdlbi4xMDgweDc4Ny5zZHIuZjI4ODUifQ&_nc_ht=scontent-sea1-1.cdninstagram.com&_nc_cat=109&_nc_ohc=-rvZgOHuvN0Q7kNvgG3Wcc4&edm=AMKDjl4BAAAA&ccb=7-5&ig_cache_key=MTg3NDU3NDk1NDExNzI5NTk2Mg%3D%3D.2-ccb7-5&oh=00_AYADUSuGUen4pLHo2Lv4whihwfMS_QWsKiiWSBag_uw-6A&oe=66586650&_nc_sid=472314\n",
      "https://scontent-sea1-1.cdninstagram.com/v/t51.2885-15/42952217_452472011942331_1575485771071776796_n.jpg?se=7&stp=dst-jpg_e35&efg=eyJ2ZW5jb2RlX3RhZyI6ImltYWdlX3VybGdlbi4xMDgweDEzNTAuc2RyLmYyODg1In0&_nc_ht=scontent-sea1-1.cdninstagram.com&_nc_cat=103&_nc_ohc=sRtv2Cm-S-MQ7kNvgGJWR9S&edm=AMKDjl4BAAAA&ccb=7-5&ig_cache_key=MTg4NDY5MDE4NDE0MzA4MTUwNw%3D%3D.2-ccb7-5&oh=00_AYB_WLJK6RMk0Qf6Mm-jUZTuwRLe4Ap7150Tea4ZW4Crlg&oe=66585C27&_nc_sid=472314\n",
      "https://scontent-sea1-1.cdninstagram.com/v/t51.2885-15/41937668_267221110585482_2642793459727120017_n.jpg?se=7&stp=dst-jpg_e35&efg=eyJ2ZW5jb2RlX3RhZyI6ImltYWdlX3VybGdlbi4xMDgweDgxMC5zZHIuZjI4ODUifQ&_nc_ht=scontent-sea1-1.cdninstagram.com&_nc_cat=106&_nc_ohc=GxhjedQq-v8Q7kNvgEXJo3j&edm=AMKDjl4BAAAA&ccb=7-5&ig_cache_key=MTg3NjYwMjM4MzYxNDc1MzQzMA%3D%3D.2-ccb7-5&oh=00_AYBgnU_cM5fpzmsQASLO3faaHmKi5STtFaT-AsVpDulyOQ&oe=66585C3A&_nc_sid=472314\n",
      "https://scontent-sea1-1.cdninstagram.com/v/t51.2885-15/42630066_243629012946972_2880860451652612198_n.jpg?se=7&stp=dst-jpg_e35&efg=eyJ2ZW5jb2RlX3RhZyI6ImltYWdlX3VybGdlbi4xMDgweDEwODAuc2RyLmYyODg1In0&_nc_ht=scontent-sea1-1.cdninstagram.com&_nc_cat=100&_nc_ohc=VHFumOkeBpQQ7kNvgHx9fjD&edm=AMKDjl4BAAAA&ccb=7-5&ig_cache_key=MTg3ODE5MDU1ODc0NTM0ODIzMA%3D%3D.2-ccb7-5&oh=00_AYByIQSPQjvXCOZUV-a3YrvP7C2bX8RMu6idxt0VCUHCaQ&oe=66584F69&_nc_sid=472314\n",
      "https://scontent-sea1-1.cdninstagram.com/v/t51.2885-15/41263112_1342711952531135_3295977059452416034_n.jpg?se=7&stp=dst-jpg_e35&efg=eyJ2ZW5jb2RlX3RhZyI6ImltYWdlX3VybGdlbi4xMDgweDEwODAuc2RyLmYyODg1In0&_nc_ht=scontent-sea1-1.cdninstagram.com&_nc_cat=111&_nc_ohc=PrpMHaESAzAQ7kNvgFwXj63&edm=AMKDjl4BAAAA&ccb=7-5&ig_cache_key=MTg3NjAyODUyMzAwMTU1NzcwMA%3D%3D.2-ccb7-5&oh=00_AYB4HtFNjtrvABhrhuODLt9zVFly_2z84RvqTqIclHHzRw&oe=66586A85&_nc_sid=472314\n",
      "https://scontent-sea1-1.cdninstagram.com/v/t51.2885-15/41811568_264721291053155_8935465571729056092_n.jpg?se=7&stp=dst-jpg_e35&efg=eyJ2ZW5jb2RlX3RhZyI6ImltYWdlX3VybGdlbi4xMDgweDgxMC5zZHIuZjI4ODUifQ&_nc_ht=scontent-sea1-1.cdninstagram.com&_nc_cat=111&_nc_ohc=nEonBiTvLr0Q7kNvgF0Kgpa&edm=AMKDjl4BAAAA&ccb=7-5&ig_cache_key=MTg3ODgwNTA4MDI0MTY0MzgzNw%3D%3D.2-ccb7-5&oh=00_AYA84JbpG5WV50-Mog4amyZRx0JXRH9hQB_pBt2Hch2wPA&oe=66585C3C&_nc_sid=472314\n",
      "https://scontent-sea1-1.cdninstagram.com/v/t51.2885-15/42849953_2161555790544066_6365162904467660815_n.jpg?se=7&stp=dst-jpg_e35&efg=eyJ2ZW5jb2RlX3RhZyI6ImltYWdlX3VybGdlbi4xMDgweDEwODAuc2RyLmYyODg1In0&_nc_ht=scontent-sea1-1.cdninstagram.com&_nc_cat=106&_nc_ohc=JzLA3herdxcQ7kNvgHS1T9U&edm=AMKDjl4BAAAA&ccb=7-5&ig_cache_key=MTg4OTc3NDEzNzU1MjA2MzczNQ%3D%3D.2-ccb7-5&oh=00_AYC_p2k1QyavKD-AU6-FSfgydNesnYMlR87-692OssZDRw&oe=66586958&_nc_sid=472314\n",
      "https://scontent-sea1-1.cdninstagram.com/v/t51.2885-15/43133302_297724507622474_1672014485646941148_n.jpg?se=7&stp=dst-jpg_e35&efg=eyJ2ZW5jb2RlX3RhZyI6ImltYWdlX3VybGdlbi4xMDgweDEzNTAuc2RyLmYyODg1In0&_nc_ht=scontent-sea1-1.cdninstagram.com&_nc_cat=102&_nc_ohc=_Vjgy6atxHUQ7kNvgGPqj3z&edm=AMKDjl4BAAAA&ccb=7-5&ig_cache_key=MTg4MTA3OTYxMTM3OTU0NDkwMA%3D%3D.2-ccb7-5&oh=00_AYBE3yjPvN18g4SYBPv2ylMHWEP6LWnPxAyj5_Z0eCtxDA&oe=66587F71&_nc_sid=472314\n",
      "https://scontent-sea1-1.cdninstagram.com/v/t51.2885-15/42148546_339679486603332_3978896159085505948_n.jpg?se=7&stp=dst-jpg_e35&efg=eyJ2ZW5jb2RlX3RhZyI6ImltYWdlX3VybGdlbi4xMDgweDEzNTAuc2RyLmYyODg1In0&_nc_ht=scontent-sea1-1.cdninstagram.com&_nc_cat=100&_nc_ohc=DGDAAcXg0O0Q7kNvgF5ZdwZ&edm=AMKDjl4BAAAA&ccb=7-5&ig_cache_key=MTg4MjUyMDEzNzU3MjExOTg1Mg%3D%3D.2-ccb7-5&oh=00_AYBG0NgOrWJ8FFzulLEcKu9Ek6gYPx44X6u68wdZjbhjfQ&oe=66586EB9&_nc_sid=472314\n",
      "https://scontent-sea1-1.cdninstagram.com/v/t51.2885-15/41806468_334067747343772_5251785381440911070_n.jpg?se=7&stp=dst-jpg_e35&efg=eyJ2ZW5jb2RlX3RhZyI6ImltYWdlX3VybGdlbi4xMDgweDgwOS5zZHIuZjI4ODUifQ&_nc_ht=scontent-sea1-1.cdninstagram.com&_nc_cat=104&_nc_ohc=krkznffa5TIQ7kNvgFdHfnY&edm=AMKDjl4BAAAA&ccb=7-5&ig_cache_key=MTg4MzI3MTc4NDc1Nzc4MDI5Mg%3D%3D.2-ccb7-5&oh=00_AYAREW1a79Kt6j8a6KRvl4C90SHZ53a0dlZNChBURimLQA&oe=66585185&_nc_sid=472314\n",
      "https://scontent-sea1-1.cdninstagram.com/v/t51.2885-15/41546589_745574499124715_7081062531662769809_n.jpg?se=7&stp=dst-jpg_e35&efg=eyJ2ZW5jb2RlX3RhZyI6ImltYWdlX3VybGdlbi4xMDgweDgwOS5zZHIuZjI4ODUifQ&_nc_ht=scontent-sea1-1.cdninstagram.com&_nc_cat=111&_nc_ohc=FXuAUxZFv2IQ7kNvgGFYxpj&edm=AMKDjl4BAAAA&ccb=7-5&ig_cache_key=MTg4NzY0Njg3MDEzMDQ1NTYyMA%3D%3D.2-ccb7-5&oh=00_AYBgCMiDBkDNYvK39Dr2F2lIaecQAVEl1u-9bZqrnEcaEg&oe=66588565&_nc_sid=472314\n",
      "https://scontent-sea1-1.cdninstagram.com/v/t51.2885-15/42467195_1951026974962785_4332320207842023211_n.jpg?se=7&stp=dst-jpg_e35&efg=eyJ2ZW5jb2RlX3RhZyI6ImltYWdlX3VybGdlbi4xMDgweDEzNTAuc2RyLmYyODg1In0&_nc_ht=scontent-sea1-1.cdninstagram.com&_nc_cat=109&_nc_ohc=2nyJ1vdxFV4Q7kNvgEDuRcG&edm=AMKDjl4BAAAA&ccb=7-5&ig_cache_key=MTg4ODk0MjA1MzQ1NTQ0MzYxNg%3D%3D.2-ccb7-5&oh=00_AYDRpvsqbGP3ixiZVlB847eTnkHlmrnndfwG_iiHZJijIQ&oe=66587419&_nc_sid=472314\n",
      "https://scontent-sea1-1.cdninstagram.com/v/t51.2885-15/42898619_672542939796266_3930076817601460717_n.jpg?se=7&stp=dst-jpg_e35&efg=eyJ2ZW5jb2RlX3RhZyI6ImltYWdlX3VybGdlbi4xMDgweDgwOS5zZHIuZjI4ODUifQ&_nc_ht=scontent-sea1-1.cdninstagram.com&_nc_cat=102&_nc_ohc=TYjXNT05szQQ7kNvgHG8YT5&edm=AMKDjl4BAAAA&ccb=7-5&ig_cache_key=MTg5MTIzMTgxNDQ5Njk3MDIyNA%3D%3D.2-ccb7-5&oh=00_AYAzqwBni4TrMwiS76NHSr8bB62Kaey8nRqZ9-KzBkR1Rg&oe=665876FE&_nc_sid=472314\n",
      "https://scontent-sea1-1.cdninstagram.com/v/t51.2885-15/43816533_1917542248542568_7441280817256726432_n.jpg?se=7&stp=dst-jpg_e35&efg=eyJ2ZW5jb2RlX3RhZyI6ImltYWdlX3VybGdlbi4xMDgweDEzNTAuc2RyLmYyODg1In0&_nc_ht=scontent-sea1-1.cdninstagram.com&_nc_cat=104&_nc_ohc=5oqcPncldoUQ7kNvgF8ep56&edm=AMKDjl4BAAAA&ccb=7-5&ig_cache_key=MTg5NjI5NDA0MDc3MzYzNDE0Mw%3D%3D.2-ccb7-5&oh=00_AYCFuuPDbjHBlfRJb30NSAgpE9Dy8aq4-Bvx6_o4KiFIMQ&oe=665863FF&_nc_sid=472314\n",
      "https://scontent-sea1-1.cdninstagram.com/v/t51.2885-15/43536322_244402846234380_4430754252551811103_n.jpg?se=7&stp=dst-jpg_e35&efg=eyJ2ZW5jb2RlX3RhZyI6ImltYWdlX3VybGdlbi4xMDgweDEwNzkuc2RyLmYyODg1In0&_nc_ht=scontent-sea1-1.cdninstagram.com&_nc_cat=100&_nc_ohc=KjtcGHsnxsgQ7kNvgGYlT6Y&edm=AMKDjl4BAAAA&ccb=7-5&ig_cache_key=MTg5MTk1MDk0MTA3OTM4ODczNw%3D%3D.2-ccb7-5&oh=00_AYBgb3kksog5L7Y8FD9rQeixjkuA41gjzS3rhoCXin9kug&oe=6658641F&_nc_sid=472314\n",
      "https://scontent-sea1-1.cdninstagram.com/v/t51.2885-15/43350075_386487931890640_6535711766488321453_n.jpg?se=7&stp=dst-jpg_e35&efg=eyJ2ZW5jb2RlX3RhZyI6ImltYWdlX3VybGdlbi4xMDgweDEwODAuc2RyLmYyODg1In0&_nc_ht=scontent-sea1-1.cdninstagram.com&_nc_cat=104&_nc_ohc=utMjTa-BWg4Q7kNvgEuQhU7&edm=AMKDjl4BAAAA&ccb=7-5&ig_cache_key=MTg5NzAwNjE5MjMwNDI4OTg5NA%3D%3D.2-ccb7-5&oh=00_AYC0H_027zQ-GUyoexu8SZzeCIahiatg3sGB8wvkBpivNg&oe=665856A2&_nc_sid=472314\n",
      "https://scontent-sea1-1.cdninstagram.com/v/t51.2885-15/43778884_1968818663225714_2775463095324273503_n.jpg?se=7&stp=dst-jpg_e35&efg=eyJ2ZW5jb2RlX3RhZyI6ImltYWdlX3VybGdlbi4xMDgweDEwODAuc2RyLmYyODg1In0&_nc_ht=scontent-sea1-1.cdninstagram.com&_nc_cat=102&_nc_ohc=0zbCiNhuBA4Q7kNvgHgk-3b&edm=AMKDjl4BAAAA&ccb=7-5&ig_cache_key=MTg5MzM5MjkxMTc4MTk2NTg0OA%3D%3D.2-ccb7-5&oh=00_AYCFB8ek97mTXQ4UAaPnLt6HNwfZvXmSJ3BhR80lHRFV5w&oe=665885C4&_nc_sid=472314\n",
      "https://scontent-sea1-1.cdninstagram.com/v/t51.2885-15/43985270_335743203859538_5185900231867016126_n.jpg?se=7&stp=dst-jpg_e35&efg=eyJ2ZW5jb2RlX3RhZyI6ImltYWdlX3VybGdlbi4xMDgweDEwODAuc2RyLmYyODg1In0&_nc_ht=scontent-sea1-1.cdninstagram.com&_nc_cat=102&_nc_ohc=bp6byzDJhjYQ7kNvgE5KWcu&edm=AMKDjl4BAAAA&ccb=7-5&ig_cache_key=MTg5NDE1MzU5NTI1MTY4MTk5NA%3D%3D.2-ccb7-5&oh=00_AYBOyH0wk5QtVy3G6rw3VU9PUkcRt9jPu83IkMLaphgU3g&oe=66587292&_nc_sid=472314\n",
      "https://scontent-sea1-1.cdninstagram.com/v/t51.2885-15/43914529_1874449279306321_5240313705008064577_n.jpg?se=7&stp=dst-jpg_e35&efg=eyJ2ZW5jb2RlX3RhZyI6ImltYWdlX3VybGdlbi4xMDgweDc5MS5zZHIuZjI4ODUifQ&_nc_ht=scontent-sea1-1.cdninstagram.com&_nc_cat=101&_nc_ohc=u7XVcdZI2o8Q7kNvgHBYqCf&edm=AMKDjl4BAAAA&ccb=7-5&ig_cache_key=MTg5NDg0NjU1MzI5NDY0NDg5NQ%3D%3D.2-ccb7-5&oh=00_AYCrcS-6ccBD_ltAQiQrnRu8OC9ruhbIM9JGXrM1g_Ny-g&oe=66587977&_nc_sid=472314\n",
      "https://scontent-sea1-1.cdninstagram.com/v/t51.2885-15/44000228_632547653807772_157335288229479837_n.jpg?se=7&stp=dst-jpg_e35&efg=eyJ2ZW5jb2RlX3RhZyI6ImltYWdlX3VybGdlbi4xMDgweDEwODAuc2RyLmYyODg1In0&_nc_ht=scontent-sea1-1.cdninstagram.com&_nc_cat=100&_nc_ohc=-aOoAAhBmsIQ7kNvgFVgmx9&edm=AMKDjl4BAAAA&ccb=7-5&ig_cache_key=MTg5ODQ4MTQ4ODI3MDM0MzA2NA%3D%3D.2-ccb7-5&oh=00_AYCIBTPJ26BsXhZlRUGpFPKyFP8epra-5nEwlTci74hO_Q&oe=66586747&_nc_sid=472314\n",
      "https://scontent-sea1-1.cdninstagram.com/v/t51.2885-15/43750293_530270647440173_7172766910280588818_n.jpg?se=7&stp=dst-jpg_e35&efg=eyJ2ZW5jb2RlX3RhZyI6ImltYWdlX3VybGdlbi4xMDgweDgwOS5zZHIuZjI4ODUifQ&_nc_ht=scontent-sea1-1.cdninstagram.com&_nc_cat=105&_nc_ohc=T1Mdeta6cK0Q7kNvgFmA2cv&edm=AMKDjl4BAAAA&ccb=7-5&ig_cache_key=MTg5OTI0OTE3MTg5MDk0NjgyMA%3D%3D.2-ccb7-5&oh=00_AYAcFZF7BZTNRFjFfDL3nf3Cyk9s0VKfBVEEGNoaycXr2g&oe=66586679&_nc_sid=472314\n",
      "https://scontent-sea1-1.cdninstagram.com/v/t51.2885-15/43778592_121251635528541_504187405514348198_n.jpg?se=7&stp=dst-jpg_e35&efg=eyJ2ZW5jb2RlX3RhZyI6ImltYWdlX3VybGdlbi4xMDgweDEzNTAuc2RyLmYyODg1In0&_nc_ht=scontent-sea1-1.cdninstagram.com&_nc_cat=109&_nc_ohc=-aiBVSHvFMwQ7kNvgH5Fe3J&edm=AMKDjl4BAAAA&ccb=7-5&ig_cache_key=MTkwMDY3MjIwOTg3NDI4NTk3OQ%3D%3D.2-ccb7-5&oh=00_AYCLHAK0ozEMjui5eLGEQSl0aS2hehff-nnIjwFg5pedzg&oe=66587259&_nc_sid=472314\n",
      "https://scontent-sea1-1.cdninstagram.com/v/t51.2885-15/43914302_325529481568240_3205116319852513453_n.jpg?se=7&stp=dst-jpg_e35&efg=eyJ2ZW5jb2RlX3RhZyI6ImltYWdlX3VybGdlbi4xMDgweDEzNTAuc2RyLmYyODg1In0&_nc_ht=scontent-sea1-1.cdninstagram.com&_nc_cat=104&_nc_ohc=zT8LxHZx6kkQ7kNvgGZJ_o1&edm=AMKDjl4BAAAA&ccb=7-5&ig_cache_key=MTkwMTI5MDgxMjI1MjIzOTMxMg%3D%3D.2-ccb7-5&oh=00_AYBPgVg6Gtkqvh7gQrj-1uN0C3Hq2sck_GHFtmYz84nQwg&oe=665860BF&_nc_sid=472314\n",
      "https://scontent-sea1-1.cdninstagram.com/v/t51.2885-15/43779529_551620885288606_7411994702596002340_n.jpg?se=7&stp=dst-jpg_e35&efg=eyJ2ZW5jb2RlX3RhZyI6ImltYWdlX3VybGdlbi4xMDgweDEzNTAuc2RyLmYyODg1In0&_nc_ht=scontent-sea1-1.cdninstagram.com&_nc_cat=110&_nc_ohc=RKcijZ_omqMQ7kNvgFerSt5&edm=AMKDjl4BAAAA&ccb=7-5&ig_cache_key=MTkwMjgzNDAyMjA0NDg5NjYwNg%3D%3D.2-ccb7-5&oh=00_AYAIMiQTg4h15xbm5iMG6gzBsnrEXKvN5SDuYAmDD-GLgA&oe=6658600D&_nc_sid=472314\n",
      "https://scontent-sea1-1.cdninstagram.com/v/t51.2885-15/43097858_2276070382672014_3847321912474740316_n.jpg?se=7&stp=dst-jpg_e35&efg=eyJ2ZW5jb2RlX3RhZyI6ImltYWdlX3VybGdlbi4xMDgweDgxMC5zZHIuZjI4ODUifQ&_nc_ht=scontent-sea1-1.cdninstagram.com&_nc_cat=106&_nc_ohc=fvnkCC1_yqMQ7kNvgGYo4Wp&edm=AMKDjl4BAAAA&ccb=7-5&ig_cache_key=MTkwMzUzODI2NTQ5MTg2OTc3Ng%3D%3D.2-ccb7-5&oh=00_AYBAUwXlkVRTEQfN4K3vb3niMDZGv0HUH_JBfl9m5CngZg&oe=66587FE3&_nc_sid=472314\n",
      "https://scontent-sea1-1.cdninstagram.com/v/t51.2885-15/43778726_2142848252632992_2282177666451364376_n.jpg?se=7&stp=dst-jpg_e35&efg=eyJ2ZW5jb2RlX3RhZyI6ImltYWdlX3VybGdlbi4xMDgweDEzNTAuc2RyLmYyODg1In0&_nc_ht=scontent-sea1-1.cdninstagram.com&_nc_cat=100&_nc_ohc=fg7JOhH3mB4Q7kNvgGF1GS_&edm=AMKDjl4BAAAA&ccb=7-5&ig_cache_key=MTkwNTAwNzE3NTM5NTMxNjI1Ng%3D%3D.2-ccb7-5&oh=00_AYCC1k3MwfbSpqu3sTtpfi4V0sDjcsPs5_G5FeFPiqAFFw&oe=665883F7&_nc_sid=472314\n",
      "https://scontent-sea1-1.cdninstagram.com/v/t51.2885-15/42640617_2201325740125435_4480817386047939516_n.jpg?se=7&stp=dst-jpg_e35&efg=eyJ2ZW5jb2RlX3RhZyI6ImltYWdlX3VybGdlbi4xMDgweDgwOS5zZHIuZjI4ODUifQ&_nc_ht=scontent-sea1-1.cdninstagram.com&_nc_cat=107&_nc_ohc=mYqxcm9gR8UQ7kNvgFWush2&edm=AMKDjl4BAAAA&ccb=7-5&ig_cache_key=MTkwNTY3NzQwMDgzMDcwMTc0MA%3D%3D.2-ccb7-5&oh=00_AYC0cZGomhK2GatJUkwQouDB-WqHR7SGSFOTC1kx5M-dGw&oe=6658798D&_nc_sid=472314\n",
      "https://scontent-sea1-1.cdninstagram.com/v/t51.2885-15/43914296_282185145765833_39397450408115816_n.jpg?se=7&stp=dst-jpg_e35&efg=eyJ2ZW5jb2RlX3RhZyI6ImltYWdlX3VybGdlbi4xMDgweDEzNTAuc2RyLmYyODg1In0&_nc_ht=scontent-sea1-1.cdninstagram.com&_nc_cat=105&_nc_ohc=IXSyxCviMOgQ7kNvgGp2LGT&edm=AMKDjl4BAAAA&ccb=7-5&ig_cache_key=MTkwNzE5NTc1MTgwNTUyMzA5Mg%3D%3D.2-ccb7-5&oh=00_AYC1rJZmopKtc3K9FVvrDNNxNXi9y2b9j4mEvVekK_6nSQ&oe=66587C2B&_nc_sid=472314\n"
     ]
    }
   ],
   "source": [
    "# Assuming cl.hashtag_medias_recent() returns a list of media objects\n",
    "medias = cl.hashtag_medias_recent('断食减肥', amount=50)\n",
    "\n",
    "# Extract URLs\n",
    "urls = []\n",
    "for media in medias:\n",
    "    if media.media_type == 1:  # Photo\n",
    "        urls.append(media.image_versions2['candidates'][0]['url'])\n",
    "    elif media.media_type == 8 and hasattr(media, 'carousel_media'):  # Carousel\n",
    "        for carousel_media in media.carousel_media:\n",
    "            if carousel_media.media_type == 1:  # Photo in carousel\n",
    "                urls.append(carousel_media.image_versions2['candidates'][0]['url'])\n",
    "\n",
    "# Print the URLs\n",
    "for url in urls:\n",
    "    print(url)\n"
   ]
  },
  {
   "cell_type": "markdown",
   "metadata": {},
   "source": [
    "\n"
   ]
  }
 ],
 "metadata": {
  "kernelspec": {
   "display_name": "Python 3",
   "language": "python",
   "name": "python3"
  },
  "language_info": {
   "codemirror_mode": {
    "name": "ipython",
    "version": 3
   },
   "file_extension": ".py",
   "mimetype": "text/x-python",
   "name": "python",
   "nbconvert_exporter": "python",
   "pygments_lexer": "ipython3",
   "version": "3.11.5"
  }
 },
 "nbformat": 4,
 "nbformat_minor": 2
}
