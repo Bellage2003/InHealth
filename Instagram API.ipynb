{
 "cells": [
  {
   "cell_type": "code",
   "execution_count": 2,
   "metadata": {},
   "outputs": [],
   "source": [
    "from instagrapi import Client"
   ]
  },
  {
   "cell_type": "code",
   "execution_count": 5,
   "metadata": {},
   "outputs": [
    {
     "data": {
      "text/plain": [
       "True"
      ]
     },
     "execution_count": 5,
     "metadata": {},
     "output_type": "execute_result"
    }
   ],
   "source": [
    "cl = Client()\n",
    "\n",
    "# adds a random delay between 1 and 3 seconds after each request\n",
    "cl.delay_range = [1, 3]\n",
    "\n",
    "cl.login('account', 'password')"
   ]
  },
  {
   "cell_type": "code",
   "execution_count": 6,
   "metadata": {},
   "outputs": [
    {
     "data": {
      "text/plain": [
       "{'id': '17841563089103670',\n",
       " 'name': 'downhill',\n",
       " 'media_count': 6166902,\n",
       " 'profile_pic_url': None}"
      ]
     },
     "execution_count": 6,
     "metadata": {},
     "output_type": "execute_result"
    }
   ],
   "source": [
    "hashtag = cl.hashtag_info('downhill')\n",
    "hashtag.dict()"
   ]
  },
  {
   "cell_type": "code",
   "execution_count": 4,
   "metadata": {},
   "outputs": [
    {
     "data": {
      "text/plain": [
       "{'id': '17841563500123184',\n",
       " 'name': 'skinny',\n",
       " 'media_count': None,\n",
       " 'profile_pic_url': None}"
      ]
     },
     "execution_count": 4,
     "metadata": {},
     "output_type": "execute_result"
    }
   ],
   "source": [
    "hashtag = cl.hashtag_info('skinny')\n",
    "hashtag.dict()"
   ]
  },
  {
   "cell_type": "code",
   "execution_count": 6,
   "metadata": {},
   "outputs": [
    {
     "data": {
      "text/plain": [
       "{'id': '17843800831014498',\n",
       " 'name': 'anorexia',\n",
       " 'media_count': None,\n",
       " 'profile_pic_url': None}"
      ]
     },
     "execution_count": 6,
     "metadata": {},
     "output_type": "execute_result"
    }
   ],
   "source": [
    "hashtag = cl.hashtag_info('Anorexia')\n",
    "hashtag.dict()"
   ]
  },
  {
   "cell_type": "code",
   "execution_count": 7,
   "metadata": {},
   "outputs": [
    {
     "data": {
      "text/plain": [
       "{'id': '17841511912072605',\n",
       " 'name': 'anarexia',\n",
       " 'media_count': None,\n",
       " 'profile_pic_url': None}"
      ]
     },
     "execution_count": 7,
     "metadata": {},
     "output_type": "execute_result"
    }
   ],
   "source": [
    "hashtag = cl.hashtag_info('Anarexia')\n",
    "hashtag.dict()"
   ]
  },
  {
   "cell_type": "code",
   "execution_count": 8,
   "metadata": {},
   "outputs": [
    {
     "data": {
      "text/plain": [
       "{'id': '17841541321129540',\n",
       " 'name': 'anorexiaaa',\n",
       " 'media_count': None,\n",
       " 'profile_pic_url': None}"
      ]
     },
     "execution_count": 8,
     "metadata": {},
     "output_type": "execute_result"
    }
   ],
   "source": [
    "hashtag = cl.hashtag_info('Anorexiaaa')\n",
    "hashtag.dict()"
   ]
  },
  {
   "cell_type": "code",
   "execution_count": 9,
   "metadata": {},
   "outputs": [
    {
     "data": {
      "text/plain": [
       "{'id': '17841563413109892',\n",
       " 'name': 'weightloss',\n",
       " 'media_count': 90304860,\n",
       " 'profile_pic_url': None}"
      ]
     },
     "execution_count": 9,
     "metadata": {},
     "output_type": "execute_result"
    }
   ],
   "source": [
    "hashtag = cl.hashtag_info('weightloss')\n",
    "hashtag.dict()"
   ]
  },
  {
   "cell_type": "code",
   "execution_count": 10,
   "metadata": {},
   "outputs": [
    {
     "data": {
      "text/plain": [
       "{'id': '17843834149031077',\n",
       " 'name': 'bulimia',\n",
       " 'media_count': None,\n",
       " 'profile_pic_url': None}"
      ]
     },
     "execution_count": 10,
     "metadata": {},
     "output_type": "execute_result"
    }
   ],
   "source": [
    "hashtag = cl.hashtag_info('bulimia')\n",
    "hashtag.dict()"
   ]
  },
  {
   "cell_type": "code",
   "execution_count": 11,
   "metadata": {},
   "outputs": [
    {
     "data": {
      "text/plain": [
       "{'id': '17843612872024162',\n",
       " 'name': 'bulimiaaaa',\n",
       " 'media_count': 8,\n",
       " 'profile_pic_url': None}"
      ]
     },
     "execution_count": 11,
     "metadata": {},
     "output_type": "execute_result"
    }
   ],
   "source": [
    "hashtag = cl.hashtag_info('bulimiaaaa')\n",
    "hashtag.dict()"
   ]
  },
  {
   "cell_type": "code",
   "execution_count": 12,
   "metadata": {},
   "outputs": [
    {
     "data": {
      "text/plain": [
       "{'id': '17842424359026310',\n",
       " 'name': '暴食',\n",
       " 'media_count': 39204,\n",
       " 'profile_pic_url': None}"
      ]
     },
     "execution_count": 12,
     "metadata": {},
     "output_type": "execute_result"
    }
   ],
   "source": [
    "hashtag = cl.hashtag_info('暴食')\n",
    "hashtag.dict()"
   ]
  },
  {
   "cell_type": "code",
   "execution_count": 14,
   "metadata": {},
   "outputs": [
    {
     "data": {
      "text/plain": [
       "{'id': '17843758810003833',\n",
       " 'name': 'bigeater',\n",
       " 'media_count': 38217,\n",
       " 'profile_pic_url': None}"
      ]
     },
     "execution_count": 14,
     "metadata": {},
     "output_type": "execute_result"
    }
   ],
   "source": [
    "hashtag = cl.hashtag_info('bigeater')\n",
    "hashtag.dict()"
   ]
  },
  {
   "cell_type": "code",
   "execution_count": 15,
   "metadata": {},
   "outputs": [
    {
     "data": {
      "text/plain": [
       "{'pk': 3356056910138354098,\n",
       " 'id': '3356056910138354098_42985237804',\n",
       " 'code': 'C6TG_qGyqmy',\n",
       " 'taken_at': datetime.datetime(2024, 4, 28, 8, 33, 1, tzinfo=TzInfo(UTC)),\n",
       " 'media_type': 8,\n",
       " 'image_versions2': {'candidates': [{'width': 1080,\n",
       "    'height': 1080,\n",
       "    'url': 'https://scontent-sea1-1.cdninstagram.com/v/t51.29350-15/440986348_408835781931870_8694103891721257175_n.jpg?stp=dst-jpg_e35_s1080x1080&_nc_ht=scontent-sea1-1.cdninstagram.com&_nc_cat=106&_nc_ohc=M0kaxjOATdgQ7kNvgEjyzo6&edm=AMKDjl4BAAAA&ccb=7-5&ig_cache_key=MzM1NjA1Njg5NzY5Nzk0OTQ0NA%3D%3D.2-ccb7-5&oh=00_AfD0jNk44LXGj-oHPhKnxelg4LtQtylFynMZsZbcswZVxA&oe=66363662&_nc_sid=472314',\n",
       "    'scans_profile': ''},\n",
       "   {'width': 320,\n",
       "    'height': 320,\n",
       "    'url': 'https://scontent-sea1-1.cdninstagram.com/v/t51.29350-15/440986348_408835781931870_8694103891721257175_n.jpg?stp=dst-jpg_e35_s320x320&_nc_ht=scontent-sea1-1.cdninstagram.com&_nc_cat=106&_nc_ohc=M0kaxjOATdgQ7kNvgEjyzo6&edm=AMKDjl4BAAAA&ccb=7-5&ig_cache_key=MzM1NjA1Njg5NzY5Nzk0OTQ0NA%3D%3D.2-ccb7-5&oh=00_AfC2mfOne3c4osQb2JTEa70HjD-vPDCsrFHielDRmzyF4A&oe=66363662&_nc_sid=472314',\n",
       "    'scans_profile': ''}]},\n",
       " 'product_type': 'carousel_container',\n",
       " 'thumbnail_url': None,\n",
       " 'location': None,\n",
       " 'user': {'pk': '42985237804',\n",
       "  'username': 'diet.chimu',\n",
       "  'full_name': 'm',\n",
       "  'profile_pic_url': Url('https://scontent-sea1-1.cdninstagram.com/v/t51.2885-19/175934410_510589916601992_3061541854104254329_n.jpg?stp=dst-jpg_e0_s150x150&_nc_ht=scontent-sea1-1.cdninstagram.com&_nc_cat=108&_nc_ohc=ZB1q3LMdH_QQ7kNvgH1UG19&edm=AMKDjl4BAAAA&ccb=7-5&oh=00_AfDlXWyFPvn4ctsdTnOycgefBXeZswUHcCs6dPxs8aggZA&oe=66364892&_nc_sid=472314'),\n",
       "  'profile_pic_url_hd': None,\n",
       "  'is_private': False},\n",
       " 'comment_count': 0,\n",
       " 'comments_disabled': False,\n",
       " 'commenting_disabled_for_viewer': False,\n",
       " 'like_count': 44,\n",
       " 'play_count': 0,\n",
       " 'has_liked': False,\n",
       " 'caption_text': '2024/04/27\\n総摂取カロリー【不明】\\nworkout【なし】\\n\\nお休みの夫と朝ごはんにスクランブルエッグとパン食べたのに、パン活へ🥖色々買って公園で食べた〜最高！\\nそのあと昔の同僚と昼飲みへ！\\n会う前に時間あってココナッツドーナツを🍩\\n沖縄料理屋さんでハイボール２杯と脂プリプリのラフテーやイカ墨ポテト・ソーキそばなどたくさん食べて満腹🈵\\nお腹いっぱいだけど大阪来たからってことでたこ焼きもしっかり食べて、〆にカフェでモンブランワッフル🧇\\nさらに夜は旦那と合流してジャンキーなラーメン🍜\\n豚バラが乗った塩まぜそば🧂\\nはち切れそうでもうやばかった🥹🥹\\nーーーーーーーーーーーーーーーーー－ーー－－ーー\\n#ダイエット #ごはん記録 #150cmダイエット #レコーディングダイエット #食欲コントロール #食事管理 #無月経 #カロリー計算 #過食改善 #過食 #連日食べ過ぎ #ローファットダイエット #筋トレ好き #トレーニング女子 #減量飯 #食べて動く #ボディメイク #pfcバランス #ゆるゆるダイエット #食べ過ぎ #食べ過ぎた #爆食 #暴食 #食べ過ぎた翌日',\n",
       " 'accessibility_caption': None,\n",
       " 'usertags': [],\n",
       " 'sponsor_tags': [],\n",
       " 'video_url': None,\n",
       " 'view_count': 0,\n",
       " 'video_duration': 0.0,\n",
       " 'title': '',\n",
       " 'resources': [{'pk': '3356056897697949444',\n",
       "   'video_url': None,\n",
       "   'thumbnail_url': Url('https://scontent-sea1-1.cdninstagram.com/v/t51.29350-15/440986348_408835781931870_8694103891721257175_n.jpg?stp=dst-jpg_e35_s1080x1080&efg=eyJ2ZW5jb2RlX3RhZyI6ImltYWdlX3VybGdlbi4xNDQweDE0NDAuc2RyLmYyOTM1MCJ9&_nc_ht=scontent-sea1-1.cdninstagram.com&_nc_cat=106&_nc_ohc=M0kaxjOATdgQ7kNvgEjyzo6&edm=AMKDjl4BAAAA&ccb=7-5&ig_cache_key=MzM1NjA1Njg5NzY5Nzk0OTQ0NA%3D%3D.2-ccb7-5&oh=00_AfD0jNk44LXGj-oHPhKnxelg4LtQtylFynMZsZbcswZVxA&oe=66363662&_nc_sid=472314'),\n",
       "   'media_type': 1},\n",
       "  {'pk': '3356056897698100274',\n",
       "   'video_url': None,\n",
       "   'thumbnail_url': Url('https://scontent-sea1-1.cdninstagram.com/v/t51.29350-15/440972963_469766315724419_4876184870175230054_n.jpg?stp=dst-jpg_e35_s1080x1080&efg=eyJ2ZW5jb2RlX3RhZyI6ImltYWdlX3VybGdlbi4xNDQweDE0NDAuc2RyLmYyOTM1MCJ9&_nc_ht=scontent-sea1-1.cdninstagram.com&_nc_cat=111&_nc_ohc=_HQfuIN0sSoQ7kNvgHwT_xl&edm=AMKDjl4BAAAA&ccb=7-5&ig_cache_key=MzM1NjA1Njg5NzY5ODEwMDI3NA%3D%3D.2-ccb7-5&oh=00_AfCsHNZuaKFaD8A72SYezWe0Mn4FaQTFImaaO9FEfub9xQ&oe=66365A3A&_nc_sid=472314'),\n",
       "   'media_type': 1},\n",
       "  {'pk': '3356056897706320248',\n",
       "   'video_url': None,\n",
       "   'thumbnail_url': Url('https://scontent-sea1-1.cdninstagram.com/v/t51.29350-15/440989570_313828848244175_2220315534688983597_n.jpg?stp=dst-jpg_e35_s1080x1080&efg=eyJ2ZW5jb2RlX3RhZyI6ImltYWdlX3VybGdlbi4xNDQweDE0NDAuc2RyLmYyOTM1MCJ9&_nc_ht=scontent-sea1-1.cdninstagram.com&_nc_cat=111&_nc_ohc=XnLedpCmCR4Q7kNvgFrDQoT&edm=AMKDjl4BAAAA&ccb=7-5&ig_cache_key=MzM1NjA1Njg5NzcwNjMyMDI0OA%3D%3D.2-ccb7-5&oh=00_AfACdVoyQ_ZRmWk2pjdKsbb0H4sjeQdDGiqcoZWTlMGtew&oe=66363E63&_nc_sid=472314'),\n",
       "   'media_type': 1},\n",
       "  {'pk': '3356056897697938545',\n",
       "   'video_url': None,\n",
       "   'thumbnail_url': Url('https://scontent-sea1-1.cdninstagram.com/v/t51.29350-15/440966276_2336368820088073_3053014701529282710_n.jpg?stp=dst-jpg_e35_s1080x1080&efg=eyJ2ZW5jb2RlX3RhZyI6ImltYWdlX3VybGdlbi4xNDQweDE0NDAuc2RyLmYyOTM1MCJ9&_nc_ht=scontent-sea1-1.cdninstagram.com&_nc_cat=101&_nc_ohc=mLPIXEDtxKUQ7kNvgEdvrWc&edm=AMKDjl4BAAAA&ccb=7-5&ig_cache_key=MzM1NjA1Njg5NzY5NzkzODU0NQ%3D%3D.2-ccb7-5&oh=00_AfDsaBF5mal15WwNImpqAGDcQ3hmUS62m2wIvk_4KaJleg&oe=66363574&_nc_sid=472314'),\n",
       "   'media_type': 1},\n",
       "  {'pk': '3356056897689705168',\n",
       "   'video_url': None,\n",
       "   'thumbnail_url': Url('https://scontent-sea1-1.cdninstagram.com/v/t51.29350-15/440981152_451171690646699_3907958550342121723_n.jpg?stp=dst-jpg_e35_s1080x1080&efg=eyJ2ZW5jb2RlX3RhZyI6ImltYWdlX3VybGdlbi4xNDQweDE0NDAuc2RyLmYyOTM1MCJ9&_nc_ht=scontent-sea1-1.cdninstagram.com&_nc_cat=111&_nc_ohc=BMF6APBAYx8Q7kNvgFac9qE&edm=AMKDjl4BAAAA&ccb=7-5&ig_cache_key=MzM1NjA1Njg5NzY4OTcwNTE2OA%3D%3D.2-ccb7-5&oh=00_AfCKpCq3XKenPtUUzdOIwEauEeEdvliF9XbA1lutYshXyw&oe=66363DB7&_nc_sid=472314'),\n",
       "   'media_type': 1},\n",
       "  {'pk': '3356056897807052499',\n",
       "   'video_url': None,\n",
       "   'thumbnail_url': Url('https://scontent-sea1-1.cdninstagram.com/v/t51.29350-15/440838541_421219980658326_5939177530715685989_n.jpg?stp=dst-jpg_e35_s1080x1080&efg=eyJ2ZW5jb2RlX3RhZyI6ImltYWdlX3VybGdlbi4xNDQweDE0NDAuc2RyLmYyOTM1MCJ9&_nc_ht=scontent-sea1-1.cdninstagram.com&_nc_cat=106&_nc_ohc=55oJpXvG8RgQ7kNvgGSf3-9&edm=AMKDjl4BAAAA&ccb=7-5&ig_cache_key=MzM1NjA1Njg5NzgwNzA1MjQ5OQ%3D%3D.2-ccb7-5&oh=00_AfDVxUjdD30eJjrfLbJSfkseBBTkQViwq1-uBoK5KgZe9w&oe=663658EF&_nc_sid=472314'),\n",
       "   'media_type': 1},\n",
       "  {'pk': '3356056897807138454',\n",
       "   'video_url': None,\n",
       "   'thumbnail_url': Url('https://scontent-sea1-1.cdninstagram.com/v/t51.29350-15/440972959_1566819994164765_2545027703339078979_n.jpg?stp=dst-jpg_e35_s1080x1080&efg=eyJ2ZW5jb2RlX3RhZyI6ImltYWdlX3VybGdlbi4xNDQweDE0NDAuc2RyLmYyOTM1MCJ9&_nc_ht=scontent-sea1-1.cdninstagram.com&_nc_cat=109&_nc_ohc=jQCMuGbZUPcQ7kNvgEfpYJ3&edm=AMKDjl4BAAAA&ccb=7-5&ig_cache_key=MzM1NjA1Njg5NzgwNzEzODQ1NA%3D%3D.2-ccb7-5&oh=00_AfBo0RiovP52s2q4TaVzUihIODuQfWyfYXZlx0Y0y-VYzQ&oe=6636347C&_nc_sid=472314'),\n",
       "   'media_type': 1},\n",
       "  {'pk': '3356056897706484075',\n",
       "   'video_url': None,\n",
       "   'thumbnail_url': Url('https://scontent-sea1-1.cdninstagram.com/v/t51.29350-15/441029844_972640177826336_8546148885450571333_n.jpg?stp=dst-jpg_e35_s1080x1080&efg=eyJ2ZW5jb2RlX3RhZyI6ImltYWdlX3VybGdlbi4xNDQweDE0NDAuc2RyLmYyOTM1MCJ9&_nc_ht=scontent-sea1-1.cdninstagram.com&_nc_cat=108&_nc_ohc=PEKwO5wUidwQ7kNvgHDcImT&edm=AMKDjl4BAAAA&ccb=7-5&ig_cache_key=MzM1NjA1Njg5NzcwNjQ4NDA3NQ%3D%3D.2-ccb7-5&oh=00_AfCvY-ShY1vkPURWcueaqq_lGb5u5GbzAyg4iRQc73BZLQ&oe=66362F37&_nc_sid=472314'),\n",
       "   'media_type': 1},\n",
       "  {'pk': '3356056897706461026',\n",
       "   'video_url': None,\n",
       "   'thumbnail_url': Url('https://scontent-sea1-1.cdninstagram.com/v/t51.29350-15/441011526_1102454277677841_6150206193887993812_n.jpg?se=-1&stp=cp6_dst-jpegr_e35_s1080x1080&efg=eyJ2ZW5jb2RlX3RhZyI6ImltYWdlX3VybGdlbi4xNDQweDE0NDAuaGRyLmYyOTM1MCJ9&_nc_ht=scontent-sea1-1.cdninstagram.com&_nc_cat=109&_nc_ohc=vRoaOYbxyMAQ7kNvgFW-79m&edm=AMKDjl4BAAAA&ccb=7-5&ig_cache_key=MzM1NjA1Njg5NzcwNjQ2MTAyNg%3D%3D.2-ccb7-5&oh=00_AfAtCb7TUgRipHXVxcyISyvIznUfH0vt2Hx69nMl7ZE84g&oe=66364B20&_nc_sid=472314'),\n",
       "   'media_type': 1}],\n",
       " 'clips_metadata': {}}"
      ]
     },
     "execution_count": 15,
     "metadata": {},
     "output_type": "execute_result"
    }
   ],
   "source": [
    "medias = cl.hashtag_medias_top('暴食', amount=2)\n",
    "medias[0].dict()"
   ]
  },
  {
   "cell_type": "code",
   "execution_count": 16,
   "metadata": {},
   "outputs": [
    {
     "data": {
      "text/plain": [
       "Media(pk=3357030986489826657, id='3357030986489826657_60023290501', code='C6WkeVZtI1h', taken_at=datetime.datetime(2024, 4, 29, 16, 48, 20, tzinfo=TzInfo(UTC)), media_type=8, image_versions2={'candidates': [{'width': 640, 'height': 640, 'url': 'https://scontent-sea1-1.cdninstagram.com/v/t51.29350-15/440942284_7416648835091357_4740361056081007723_n.jpg?stp=dst-jpg_e15_s640x640&_nc_ht=scontent-sea1-1.cdninstagram.com&_nc_cat=105&_nc_ohc=5AMJxIKGNGoQ7kNvgHHxQcz&edm=AMKDjl4BAAAA&ccb=7-5&oh=00_AfB4wHqCJvZGNjs53ACXPXHqLGZD8E6DOuSB8wJqOvF_sQ&oe=663326B1&_nc_sid=472314', 'scans_profile': ''}, {'width': 320, 'height': 320, 'url': 'https://scontent-sea1-1.cdninstagram.com/v/t51.29350-15/440942284_7416648835091357_4740361056081007723_n.jpg?stp=dst-jpg_e15_s320x320&_nc_ht=scontent-sea1-1.cdninstagram.com&_nc_cat=105&_nc_ohc=5AMJxIKGNGoQ7kNvgHHxQcz&edm=AMKDjl4BAAAA&ccb=7-5&oh=00_AfAsDiPWQ32j6ZIzjfIEup60i5pLN2E_AvpIgvmdNozHZw&oe=663326B1&_nc_sid=472314', 'scans_profile': ''}]}, product_type='carousel_container', thumbnail_url=None, location=Location(pk=104232475316011, name='Explore', phone='', website='', category='', hours={}, address='Explore', city='', zip=None, lng=51.4231, lat=35.6961, external_id=104232475316011, external_id_source='facebook_places'), user=UserShort(pk='60023290501', username='kruvcrs', full_name='𝐑𝐮𝐛𝐲', profile_pic_url=Url('https://scontent-sea1-1.cdninstagram.com/v/t51.2885-19/440887058_447990454579729_281726853153554790_n.jpg?stp=dst-jpg_e0_s150x150&_nc_ht=scontent-sea1-1.cdninstagram.com&_nc_cat=101&_nc_ohc=3TIuZHV4ZfUQ7kNvgEhjN1Z&edm=AMKDjl4BAAAA&ccb=7-5&oh=00_AfA-axIyKp4fM_GaRICPBDkwd50xOEpNJKJd9F3iPgviwQ&oe=6637115F&_nc_sid=472314'), profile_pic_url_hd=None, is_private=False), comment_count=51, comments_disabled=False, commenting_disabled_for_viewer=False, like_count=316, play_count=0, has_liked=False, caption_text='#𝐉𝐄𝐍𝐒𝐎𝐎 collab with my girl💋\\n\\nac : ib : @lesbjenss\\ncc : @myoilogy @rosdeukie @deukrubi\\n.\\n\\n.\\n\\n.\\ntags\\n#jennie #jennie90s #jennieblackpink #jennierubyjane #jennie90sedit #jenniekim #jennieedit #jisoo #kimjisoo #kimjisoo90s #jisoo90sedit #jisoo90sedits #jisooblackpink #jisookim #jisooedits #blackpink #kruvcrs #explorepage #explore #explorepage', accessibility_caption=None, usertags=[Usertag(user=UserShort(pk='65387432247', username='lirswax', full_name='S U D E  🂱', profile_pic_url=Url('https://scontent-sea1-1.cdninstagram.com/v/t51.2885-19/440865395_1133939637745974_3830182439743438784_n.jpg?stp=dst-jpg_e0_s150x150&_nc_ht=scontent-sea1-1.cdninstagram.com&_nc_cat=106&_nc_ohc=XQBHntvBT7EQ7kNvgEgB0Yb&edm=AMKDjl4BAAAA&ccb=7-5&oh=00_AfDDkFMzkcueZXiI1IWCBncUUMDeaM71IkeN8KLvrI-fJw&oe=6636FE50&_nc_sid=472314'), profile_pic_url_hd=None, is_private=False), x=0.0, y=0.0), Usertag(user=UserShort(pk='7140177628', username='jennierubyjane', full_name='J', profile_pic_url=Url('https://scontent-sea1-1.cdninstagram.com/v/t51.2885-19/71533411_449636125903525_7464596574253875200_n.jpg?stp=dst-jpg_e0_s150x150&_nc_ht=scontent-sea1-1.cdninstagram.com&_nc_cat=1&_nc_ohc=dxrL1uwbyxYQ7kNvgHAr3YD&edm=AMKDjl4BAAAA&ccb=7-5&oh=00_AfBX4xcftYCDatWayrNMkjvbk1MRnUwRBV7dYJyAPA8kjQ&oe=66370691&_nc_sid=472314'), profile_pic_url_hd=None, is_private=False), x=0.0, y=0.0), Usertag(user=UserShort(pk='8011506095', username='sooyaaa__', full_name='JISOO🪐', profile_pic_url=Url('https://scontent-sea1-1.cdninstagram.com/v/t51.2885-19/429404088_2678642582312392_3917051589639628016_n.jpg?stp=dst-jpg_e0_s150x150&_nc_ht=scontent-sea1-1.cdninstagram.com&_nc_cat=1&_nc_ohc=lJYFUzScP-AQ7kNvgFkiaUc&edm=AMKDjl4BAAAA&ccb=7-5&oh=00_AfCK78xeAcXcG7gHQrRiziHoAH8mYPfuahfUIls4bjVynQ&oe=6636F69F&_nc_sid=472314'), profile_pic_url_hd=None, is_private=False), x=0.0, y=0.0)], sponsor_tags=[], video_url=None, view_count=0, video_duration=0.0, title='', resources=[Resource(pk='3357030370992510999', video_url=Url('https://scontent.cdninstagram.com/o1/v/t16/f2/m69/An8yKC8rAiAV2QOWFqvYgFMoOjaONkgXsG5AUUnmxCimjOZYZV46IiSD66NlvBdx6IDnyX_lsl3XMLRnNfIvv9Nw?efg=eyJ2ZW5jb2RlX3RhZyI6Inhwdl9wcm9ncmVzc2l2ZS5JTlNUQUdSQU0uQ0FST1VTRUxfSVRFTS5DMy43MjAuZGFzaF9iYXNlbGluZV8xX3YxIn0&_nc_ht=scontent.cdninstagram.com&_nc_cat=106&vs=92f74f85fc0c2510&_nc_vs=HBksFQIYOnBhc3N0aHJvdWdoX2V2ZXJzdG9yZS9HRDI3TWhwaFp2NVFpM29HQU5HWjRIM3B0RnRuYmtZTEFBQUYVAALIAQAVAhg6cGFzc3Rocm91Z2hfZXZlcnN0b3JlL0dPYmVmUm5CdVNhQkVxa0ZBTWNyS1lKbGlwczNia1lMQUFBRhUCAsgBACgAGAAbAogHdXNlX29pbAExEnByb2dyZXNzaXZlX3JlY2lwZQExFQAAJszzyaK%2B4LoDFQIoAkMzLBdANd2yLQ5WBBgSZGFzaF9iYXNlbGluZV8xX3YxEQB17gcA&ccb=9-4&oh=00_AfAuceMdLRvisMdX8le5p1XplYnb3jjG5jIIsIvXVajWjg&oe=6632FB1D&_nc_sid=1d576d'), thumbnail_url=Url('https://scontent-sea1-1.cdninstagram.com/v/t51.29350-15/440942284_7416648835091357_4740361056081007723_n.jpg?stp=dst-jpg_e15_s360x360&efg=eyJ2ZW5jb2RlX3RhZyI6ImltYWdlX3VybGdlbi43MjB4NzIwLnNkci5mMjkzNTAifQ&_nc_ht=scontent-sea1-1.cdninstagram.com&_nc_cat=105&_nc_ohc=5AMJxIKGNGoQ7kNvgHHxQcz&edm=AMKDjl4BAAAA&ccb=7-5&ig_cache_key=MzM1NzAzMDM3MDk5MjUxMDk5OQ%3D%3D.2-ccb7-5&oh=00_AfCBBAt3OT4cynb2ALUJlq5Mwmqy-WlDoiz0HkZx3Nk-zw&oe=66371B31&_nc_sid=472314'), media_type=2), Resource(pk='3357030798459155394', video_url=Url('https://scontent.cdninstagram.com/o1/v/t16/f2/m69/An-SPcl_6a02Ablx32Focro_2jbc6tACbQV_3v15TbfHWv6daP26LNET-VNmWH_GRaByZcBQCJcCQiPdDrIC7Q?efg=eyJ2ZW5jb2RlX3RhZyI6Inhwdl9wcm9ncmVzc2l2ZS5JTlNUQUdSQU0uQ0FST1VTRUxfSVRFTS5DMy43MjAuZGFzaF9iYXNlbGluZV8xX3YxIn0&_nc_ht=scontent.cdninstagram.com&_nc_cat=102&vs=bdcbf96797936b75&_nc_vs=HBksFQIYOnBhc3N0aHJvdWdoX2V2ZXJzdG9yZS9HQ19qTWhvQlBEVVpEdDBEQUMwX2x5UFhFNFJpYmtZTEFBQUYVAALIAQAVAhg6cGFzc3Rocm91Z2hfZXZlcnN0b3JlL0dEZUJQQnEyeXJiOUZ4OEJBT0ZKT2xLS3libGhia1lMQUFBRhUCAsgBACgAGAAbAogHdXNlX29pbAExEnByb2dyZXNzaXZlX3JlY2lwZQExFQAAJsquqJGoh90CFQIoAkMzLBdANbMzMzMzMxgSZGFzaF9iYXNlbGluZV8xX3YxEQB17gcA&ccb=9-4&oh=00_AfBAf_eae4aB3aTb-A5hAQTJsM2TIruS3uVfsW9FvA-lUA&oe=663307D0&_nc_sid=1d576d'), thumbnail_url=Url('https://scontent-sea1-1.cdninstagram.com/v/t51.29350-15/440939652_342418525118704_6250449140371359524_n.jpg?stp=dst-jpg_e15_s360x360&efg=eyJ2ZW5jb2RlX3RhZyI6ImltYWdlX3VybGdlbi43MjB4NzIwLnNkci5mMjkzNTAifQ&_nc_ht=scontent-sea1-1.cdninstagram.com&_nc_cat=104&_nc_ohc=OHjPY7etoxoQ7kNvgHR06ab&edm=AMKDjl4BAAAA&ccb=7-5&ig_cache_key=MzM1NzAzMDc5ODQ1OTE1NTM5NA%3D%3D.2-ccb7-5&oh=00_AfB8FeRunSdOVCiFP2WluQ6LSqTYBiKbPiEbkYqppUb3Qg&oe=6636F9C0&_nc_sid=472314'), media_type=2)], clips_metadata={})"
      ]
     },
     "execution_count": 16,
     "metadata": {},
     "output_type": "execute_result"
    }
   ],
   "source": [
    "posts = cl.hashtag_medias_recent('', amount = 10)\n",
    "posts[3]"
   ]
  },
  {
   "cell_type": "code",
   "execution_count": null,
   "metadata": {},
   "outputs": [],
   "source": []
  },
  {
   "cell_type": "code",
   "execution_count": null,
   "metadata": {},
   "outputs": [],
   "source": []
  }
 ],
 "metadata": {
  "kernelspec": {
   "display_name": "Python 3 (ipykernel)",
   "language": "python",
   "name": "python3"
  },
  "language_info": {
   "codemirror_mode": {
    "name": "ipython",
    "version": 3
   },
   "file_extension": ".py",
   "mimetype": "text/x-python",
   "name": "python",
   "nbconvert_exporter": "python",
   "pygments_lexer": "ipython3",
   "version": "3.9.12"
  }
 },
 "nbformat": 4,
 "nbformat_minor": 4
}
